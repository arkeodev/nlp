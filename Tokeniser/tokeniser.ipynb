{
  "nbformat": 4,
  "nbformat_minor": 0,
  "metadata": {
    "colab": {
      "provenance": [],
      "authorship_tag": "ABX9TyPetnKu36ap83nZ+tU8yAVz",
      "include_colab_link": true
    },
    "kernelspec": {
      "name": "python3",
      "display_name": "Python 3"
    },
    "language_info": {
      "name": "python"
    },
    "widgets": {
      "application/vnd.jupyter.widget-state+json": {
        "f5dbc6af71a248b1abe990f1244af3fa": {
          "model_module": "@jupyter-widgets/controls",
          "model_name": "HBoxModel",
          "model_module_version": "1.5.0",
          "state": {
            "_dom_classes": [],
            "_model_module": "@jupyter-widgets/controls",
            "_model_module_version": "1.5.0",
            "_model_name": "HBoxModel",
            "_view_count": null,
            "_view_module": "@jupyter-widgets/controls",
            "_view_module_version": "1.5.0",
            "_view_name": "HBoxView",
            "box_style": "",
            "children": [
              "IPY_MODEL_a81365d98ded4ab0bb7743cb98972ecf",
              "IPY_MODEL_4e01b95625fa4e1eabe87a50375c8f08",
              "IPY_MODEL_d21480564c7643429053d1507d897edc"
            ],
            "layout": "IPY_MODEL_49670610a6d24cdeb6acf53e8d97cb97"
          }
        },
        "a81365d98ded4ab0bb7743cb98972ecf": {
          "model_module": "@jupyter-widgets/controls",
          "model_name": "HTMLModel",
          "model_module_version": "1.5.0",
          "state": {
            "_dom_classes": [],
            "_model_module": "@jupyter-widgets/controls",
            "_model_module_version": "1.5.0",
            "_model_name": "HTMLModel",
            "_view_count": null,
            "_view_module": "@jupyter-widgets/controls",
            "_view_module_version": "1.5.0",
            "_view_name": "HTMLView",
            "description": "",
            "description_tooltip": null,
            "layout": "IPY_MODEL_2a78ec9c0dab4f8186fc74dbd8ef919a",
            "placeholder": "​",
            "style": "IPY_MODEL_d835c1530e94438ab5e7e5ba8d3496dc",
            "value": "tokenizer_config.json: 100%"
          }
        },
        "4e01b95625fa4e1eabe87a50375c8f08": {
          "model_module": "@jupyter-widgets/controls",
          "model_name": "FloatProgressModel",
          "model_module_version": "1.5.0",
          "state": {
            "_dom_classes": [],
            "_model_module": "@jupyter-widgets/controls",
            "_model_module_version": "1.5.0",
            "_model_name": "FloatProgressModel",
            "_view_count": null,
            "_view_module": "@jupyter-widgets/controls",
            "_view_module_version": "1.5.0",
            "_view_name": "ProgressView",
            "bar_style": "success",
            "description": "",
            "description_tooltip": null,
            "layout": "IPY_MODEL_41f80f131f274b279ea2d745cd7a7be6",
            "max": 48,
            "min": 0,
            "orientation": "horizontal",
            "style": "IPY_MODEL_8e7550bb865f4dea84f481506ae2cd19",
            "value": 48
          }
        },
        "d21480564c7643429053d1507d897edc": {
          "model_module": "@jupyter-widgets/controls",
          "model_name": "HTMLModel",
          "model_module_version": "1.5.0",
          "state": {
            "_dom_classes": [],
            "_model_module": "@jupyter-widgets/controls",
            "_model_module_version": "1.5.0",
            "_model_name": "HTMLModel",
            "_view_count": null,
            "_view_module": "@jupyter-widgets/controls",
            "_view_module_version": "1.5.0",
            "_view_name": "HTMLView",
            "description": "",
            "description_tooltip": null,
            "layout": "IPY_MODEL_cd2de3d15d4d45edb087ba919126105e",
            "placeholder": "​",
            "style": "IPY_MODEL_eba36738ae0d49dd8171b240ef15d2cf",
            "value": " 48.0/48.0 [00:00&lt;00:00, 627B/s]"
          }
        },
        "49670610a6d24cdeb6acf53e8d97cb97": {
          "model_module": "@jupyter-widgets/base",
          "model_name": "LayoutModel",
          "model_module_version": "1.2.0",
          "state": {
            "_model_module": "@jupyter-widgets/base",
            "_model_module_version": "1.2.0",
            "_model_name": "LayoutModel",
            "_view_count": null,
            "_view_module": "@jupyter-widgets/base",
            "_view_module_version": "1.2.0",
            "_view_name": "LayoutView",
            "align_content": null,
            "align_items": null,
            "align_self": null,
            "border": null,
            "bottom": null,
            "display": null,
            "flex": null,
            "flex_flow": null,
            "grid_area": null,
            "grid_auto_columns": null,
            "grid_auto_flow": null,
            "grid_auto_rows": null,
            "grid_column": null,
            "grid_gap": null,
            "grid_row": null,
            "grid_template_areas": null,
            "grid_template_columns": null,
            "grid_template_rows": null,
            "height": null,
            "justify_content": null,
            "justify_items": null,
            "left": null,
            "margin": null,
            "max_height": null,
            "max_width": null,
            "min_height": null,
            "min_width": null,
            "object_fit": null,
            "object_position": null,
            "order": null,
            "overflow": null,
            "overflow_x": null,
            "overflow_y": null,
            "padding": null,
            "right": null,
            "top": null,
            "visibility": null,
            "width": null
          }
        },
        "2a78ec9c0dab4f8186fc74dbd8ef919a": {
          "model_module": "@jupyter-widgets/base",
          "model_name": "LayoutModel",
          "model_module_version": "1.2.0",
          "state": {
            "_model_module": "@jupyter-widgets/base",
            "_model_module_version": "1.2.0",
            "_model_name": "LayoutModel",
            "_view_count": null,
            "_view_module": "@jupyter-widgets/base",
            "_view_module_version": "1.2.0",
            "_view_name": "LayoutView",
            "align_content": null,
            "align_items": null,
            "align_self": null,
            "border": null,
            "bottom": null,
            "display": null,
            "flex": null,
            "flex_flow": null,
            "grid_area": null,
            "grid_auto_columns": null,
            "grid_auto_flow": null,
            "grid_auto_rows": null,
            "grid_column": null,
            "grid_gap": null,
            "grid_row": null,
            "grid_template_areas": null,
            "grid_template_columns": null,
            "grid_template_rows": null,
            "height": null,
            "justify_content": null,
            "justify_items": null,
            "left": null,
            "margin": null,
            "max_height": null,
            "max_width": null,
            "min_height": null,
            "min_width": null,
            "object_fit": null,
            "object_position": null,
            "order": null,
            "overflow": null,
            "overflow_x": null,
            "overflow_y": null,
            "padding": null,
            "right": null,
            "top": null,
            "visibility": null,
            "width": null
          }
        },
        "d835c1530e94438ab5e7e5ba8d3496dc": {
          "model_module": "@jupyter-widgets/controls",
          "model_name": "DescriptionStyleModel",
          "model_module_version": "1.5.0",
          "state": {
            "_model_module": "@jupyter-widgets/controls",
            "_model_module_version": "1.5.0",
            "_model_name": "DescriptionStyleModel",
            "_view_count": null,
            "_view_module": "@jupyter-widgets/base",
            "_view_module_version": "1.2.0",
            "_view_name": "StyleView",
            "description_width": ""
          }
        },
        "41f80f131f274b279ea2d745cd7a7be6": {
          "model_module": "@jupyter-widgets/base",
          "model_name": "LayoutModel",
          "model_module_version": "1.2.0",
          "state": {
            "_model_module": "@jupyter-widgets/base",
            "_model_module_version": "1.2.0",
            "_model_name": "LayoutModel",
            "_view_count": null,
            "_view_module": "@jupyter-widgets/base",
            "_view_module_version": "1.2.0",
            "_view_name": "LayoutView",
            "align_content": null,
            "align_items": null,
            "align_self": null,
            "border": null,
            "bottom": null,
            "display": null,
            "flex": null,
            "flex_flow": null,
            "grid_area": null,
            "grid_auto_columns": null,
            "grid_auto_flow": null,
            "grid_auto_rows": null,
            "grid_column": null,
            "grid_gap": null,
            "grid_row": null,
            "grid_template_areas": null,
            "grid_template_columns": null,
            "grid_template_rows": null,
            "height": null,
            "justify_content": null,
            "justify_items": null,
            "left": null,
            "margin": null,
            "max_height": null,
            "max_width": null,
            "min_height": null,
            "min_width": null,
            "object_fit": null,
            "object_position": null,
            "order": null,
            "overflow": null,
            "overflow_x": null,
            "overflow_y": null,
            "padding": null,
            "right": null,
            "top": null,
            "visibility": null,
            "width": null
          }
        },
        "8e7550bb865f4dea84f481506ae2cd19": {
          "model_module": "@jupyter-widgets/controls",
          "model_name": "ProgressStyleModel",
          "model_module_version": "1.5.0",
          "state": {
            "_model_module": "@jupyter-widgets/controls",
            "_model_module_version": "1.5.0",
            "_model_name": "ProgressStyleModel",
            "_view_count": null,
            "_view_module": "@jupyter-widgets/base",
            "_view_module_version": "1.2.0",
            "_view_name": "StyleView",
            "bar_color": null,
            "description_width": ""
          }
        },
        "cd2de3d15d4d45edb087ba919126105e": {
          "model_module": "@jupyter-widgets/base",
          "model_name": "LayoutModel",
          "model_module_version": "1.2.0",
          "state": {
            "_model_module": "@jupyter-widgets/base",
            "_model_module_version": "1.2.0",
            "_model_name": "LayoutModel",
            "_view_count": null,
            "_view_module": "@jupyter-widgets/base",
            "_view_module_version": "1.2.0",
            "_view_name": "LayoutView",
            "align_content": null,
            "align_items": null,
            "align_self": null,
            "border": null,
            "bottom": null,
            "display": null,
            "flex": null,
            "flex_flow": null,
            "grid_area": null,
            "grid_auto_columns": null,
            "grid_auto_flow": null,
            "grid_auto_rows": null,
            "grid_column": null,
            "grid_gap": null,
            "grid_row": null,
            "grid_template_areas": null,
            "grid_template_columns": null,
            "grid_template_rows": null,
            "height": null,
            "justify_content": null,
            "justify_items": null,
            "left": null,
            "margin": null,
            "max_height": null,
            "max_width": null,
            "min_height": null,
            "min_width": null,
            "object_fit": null,
            "object_position": null,
            "order": null,
            "overflow": null,
            "overflow_x": null,
            "overflow_y": null,
            "padding": null,
            "right": null,
            "top": null,
            "visibility": null,
            "width": null
          }
        },
        "eba36738ae0d49dd8171b240ef15d2cf": {
          "model_module": "@jupyter-widgets/controls",
          "model_name": "DescriptionStyleModel",
          "model_module_version": "1.5.0",
          "state": {
            "_model_module": "@jupyter-widgets/controls",
            "_model_module_version": "1.5.0",
            "_model_name": "DescriptionStyleModel",
            "_view_count": null,
            "_view_module": "@jupyter-widgets/base",
            "_view_module_version": "1.2.0",
            "_view_name": "StyleView",
            "description_width": ""
          }
        },
        "11a65ed5727041b8911a8612b3fdc755": {
          "model_module": "@jupyter-widgets/controls",
          "model_name": "HBoxModel",
          "model_module_version": "1.5.0",
          "state": {
            "_dom_classes": [],
            "_model_module": "@jupyter-widgets/controls",
            "_model_module_version": "1.5.0",
            "_model_name": "HBoxModel",
            "_view_count": null,
            "_view_module": "@jupyter-widgets/controls",
            "_view_module_version": "1.5.0",
            "_view_name": "HBoxView",
            "box_style": "",
            "children": [
              "IPY_MODEL_bdc25ee45ffb413696cfa933d97ebf5f",
              "IPY_MODEL_473616fa6e4e478285bb919cd98fa6af",
              "IPY_MODEL_304e38537ab94d978e8481d4c0cb4238"
            ],
            "layout": "IPY_MODEL_088a48af7a734347a3c8cd1e638da82f"
          }
        },
        "bdc25ee45ffb413696cfa933d97ebf5f": {
          "model_module": "@jupyter-widgets/controls",
          "model_name": "HTMLModel",
          "model_module_version": "1.5.0",
          "state": {
            "_dom_classes": [],
            "_model_module": "@jupyter-widgets/controls",
            "_model_module_version": "1.5.0",
            "_model_name": "HTMLModel",
            "_view_count": null,
            "_view_module": "@jupyter-widgets/controls",
            "_view_module_version": "1.5.0",
            "_view_name": "HTMLView",
            "description": "",
            "description_tooltip": null,
            "layout": "IPY_MODEL_1651194ef4744f9db7d6b57d6a0105a7",
            "placeholder": "​",
            "style": "IPY_MODEL_edaf1874f2e248e9a30cd03022edafc0",
            "value": "vocab.txt: 100%"
          }
        },
        "473616fa6e4e478285bb919cd98fa6af": {
          "model_module": "@jupyter-widgets/controls",
          "model_name": "FloatProgressModel",
          "model_module_version": "1.5.0",
          "state": {
            "_dom_classes": [],
            "_model_module": "@jupyter-widgets/controls",
            "_model_module_version": "1.5.0",
            "_model_name": "FloatProgressModel",
            "_view_count": null,
            "_view_module": "@jupyter-widgets/controls",
            "_view_module_version": "1.5.0",
            "_view_name": "ProgressView",
            "bar_style": "success",
            "description": "",
            "description_tooltip": null,
            "layout": "IPY_MODEL_68d7e4be4cb844e79529de760e63bb07",
            "max": 231508,
            "min": 0,
            "orientation": "horizontal",
            "style": "IPY_MODEL_924b5f3f4bc7498389ec43f341f4198e",
            "value": 231508
          }
        },
        "304e38537ab94d978e8481d4c0cb4238": {
          "model_module": "@jupyter-widgets/controls",
          "model_name": "HTMLModel",
          "model_module_version": "1.5.0",
          "state": {
            "_dom_classes": [],
            "_model_module": "@jupyter-widgets/controls",
            "_model_module_version": "1.5.0",
            "_model_name": "HTMLModel",
            "_view_count": null,
            "_view_module": "@jupyter-widgets/controls",
            "_view_module_version": "1.5.0",
            "_view_name": "HTMLView",
            "description": "",
            "description_tooltip": null,
            "layout": "IPY_MODEL_f5dbca5de908454eaa6729c5ce9986d2",
            "placeholder": "​",
            "style": "IPY_MODEL_c02b94a95e1c401f994c4d48b96b009d",
            "value": " 232k/232k [00:00&lt;00:00, 616kB/s]"
          }
        },
        "088a48af7a734347a3c8cd1e638da82f": {
          "model_module": "@jupyter-widgets/base",
          "model_name": "LayoutModel",
          "model_module_version": "1.2.0",
          "state": {
            "_model_module": "@jupyter-widgets/base",
            "_model_module_version": "1.2.0",
            "_model_name": "LayoutModel",
            "_view_count": null,
            "_view_module": "@jupyter-widgets/base",
            "_view_module_version": "1.2.0",
            "_view_name": "LayoutView",
            "align_content": null,
            "align_items": null,
            "align_self": null,
            "border": null,
            "bottom": null,
            "display": null,
            "flex": null,
            "flex_flow": null,
            "grid_area": null,
            "grid_auto_columns": null,
            "grid_auto_flow": null,
            "grid_auto_rows": null,
            "grid_column": null,
            "grid_gap": null,
            "grid_row": null,
            "grid_template_areas": null,
            "grid_template_columns": null,
            "grid_template_rows": null,
            "height": null,
            "justify_content": null,
            "justify_items": null,
            "left": null,
            "margin": null,
            "max_height": null,
            "max_width": null,
            "min_height": null,
            "min_width": null,
            "object_fit": null,
            "object_position": null,
            "order": null,
            "overflow": null,
            "overflow_x": null,
            "overflow_y": null,
            "padding": null,
            "right": null,
            "top": null,
            "visibility": null,
            "width": null
          }
        },
        "1651194ef4744f9db7d6b57d6a0105a7": {
          "model_module": "@jupyter-widgets/base",
          "model_name": "LayoutModel",
          "model_module_version": "1.2.0",
          "state": {
            "_model_module": "@jupyter-widgets/base",
            "_model_module_version": "1.2.0",
            "_model_name": "LayoutModel",
            "_view_count": null,
            "_view_module": "@jupyter-widgets/base",
            "_view_module_version": "1.2.0",
            "_view_name": "LayoutView",
            "align_content": null,
            "align_items": null,
            "align_self": null,
            "border": null,
            "bottom": null,
            "display": null,
            "flex": null,
            "flex_flow": null,
            "grid_area": null,
            "grid_auto_columns": null,
            "grid_auto_flow": null,
            "grid_auto_rows": null,
            "grid_column": null,
            "grid_gap": null,
            "grid_row": null,
            "grid_template_areas": null,
            "grid_template_columns": null,
            "grid_template_rows": null,
            "height": null,
            "justify_content": null,
            "justify_items": null,
            "left": null,
            "margin": null,
            "max_height": null,
            "max_width": null,
            "min_height": null,
            "min_width": null,
            "object_fit": null,
            "object_position": null,
            "order": null,
            "overflow": null,
            "overflow_x": null,
            "overflow_y": null,
            "padding": null,
            "right": null,
            "top": null,
            "visibility": null,
            "width": null
          }
        },
        "edaf1874f2e248e9a30cd03022edafc0": {
          "model_module": "@jupyter-widgets/controls",
          "model_name": "DescriptionStyleModel",
          "model_module_version": "1.5.0",
          "state": {
            "_model_module": "@jupyter-widgets/controls",
            "_model_module_version": "1.5.0",
            "_model_name": "DescriptionStyleModel",
            "_view_count": null,
            "_view_module": "@jupyter-widgets/base",
            "_view_module_version": "1.2.0",
            "_view_name": "StyleView",
            "description_width": ""
          }
        },
        "68d7e4be4cb844e79529de760e63bb07": {
          "model_module": "@jupyter-widgets/base",
          "model_name": "LayoutModel",
          "model_module_version": "1.2.0",
          "state": {
            "_model_module": "@jupyter-widgets/base",
            "_model_module_version": "1.2.0",
            "_model_name": "LayoutModel",
            "_view_count": null,
            "_view_module": "@jupyter-widgets/base",
            "_view_module_version": "1.2.0",
            "_view_name": "LayoutView",
            "align_content": null,
            "align_items": null,
            "align_self": null,
            "border": null,
            "bottom": null,
            "display": null,
            "flex": null,
            "flex_flow": null,
            "grid_area": null,
            "grid_auto_columns": null,
            "grid_auto_flow": null,
            "grid_auto_rows": null,
            "grid_column": null,
            "grid_gap": null,
            "grid_row": null,
            "grid_template_areas": null,
            "grid_template_columns": null,
            "grid_template_rows": null,
            "height": null,
            "justify_content": null,
            "justify_items": null,
            "left": null,
            "margin": null,
            "max_height": null,
            "max_width": null,
            "min_height": null,
            "min_width": null,
            "object_fit": null,
            "object_position": null,
            "order": null,
            "overflow": null,
            "overflow_x": null,
            "overflow_y": null,
            "padding": null,
            "right": null,
            "top": null,
            "visibility": null,
            "width": null
          }
        },
        "924b5f3f4bc7498389ec43f341f4198e": {
          "model_module": "@jupyter-widgets/controls",
          "model_name": "ProgressStyleModel",
          "model_module_version": "1.5.0",
          "state": {
            "_model_module": "@jupyter-widgets/controls",
            "_model_module_version": "1.5.0",
            "_model_name": "ProgressStyleModel",
            "_view_count": null,
            "_view_module": "@jupyter-widgets/base",
            "_view_module_version": "1.2.0",
            "_view_name": "StyleView",
            "bar_color": null,
            "description_width": ""
          }
        },
        "f5dbca5de908454eaa6729c5ce9986d2": {
          "model_module": "@jupyter-widgets/base",
          "model_name": "LayoutModel",
          "model_module_version": "1.2.0",
          "state": {
            "_model_module": "@jupyter-widgets/base",
            "_model_module_version": "1.2.0",
            "_model_name": "LayoutModel",
            "_view_count": null,
            "_view_module": "@jupyter-widgets/base",
            "_view_module_version": "1.2.0",
            "_view_name": "LayoutView",
            "align_content": null,
            "align_items": null,
            "align_self": null,
            "border": null,
            "bottom": null,
            "display": null,
            "flex": null,
            "flex_flow": null,
            "grid_area": null,
            "grid_auto_columns": null,
            "grid_auto_flow": null,
            "grid_auto_rows": null,
            "grid_column": null,
            "grid_gap": null,
            "grid_row": null,
            "grid_template_areas": null,
            "grid_template_columns": null,
            "grid_template_rows": null,
            "height": null,
            "justify_content": null,
            "justify_items": null,
            "left": null,
            "margin": null,
            "max_height": null,
            "max_width": null,
            "min_height": null,
            "min_width": null,
            "object_fit": null,
            "object_position": null,
            "order": null,
            "overflow": null,
            "overflow_x": null,
            "overflow_y": null,
            "padding": null,
            "right": null,
            "top": null,
            "visibility": null,
            "width": null
          }
        },
        "c02b94a95e1c401f994c4d48b96b009d": {
          "model_module": "@jupyter-widgets/controls",
          "model_name": "DescriptionStyleModel",
          "model_module_version": "1.5.0",
          "state": {
            "_model_module": "@jupyter-widgets/controls",
            "_model_module_version": "1.5.0",
            "_model_name": "DescriptionStyleModel",
            "_view_count": null,
            "_view_module": "@jupyter-widgets/base",
            "_view_module_version": "1.2.0",
            "_view_name": "StyleView",
            "description_width": ""
          }
        },
        "60a9fabd3b5b4ba2abfeaaa9d5e69012": {
          "model_module": "@jupyter-widgets/controls",
          "model_name": "HBoxModel",
          "model_module_version": "1.5.0",
          "state": {
            "_dom_classes": [],
            "_model_module": "@jupyter-widgets/controls",
            "_model_module_version": "1.5.0",
            "_model_name": "HBoxModel",
            "_view_count": null,
            "_view_module": "@jupyter-widgets/controls",
            "_view_module_version": "1.5.0",
            "_view_name": "HBoxView",
            "box_style": "",
            "children": [
              "IPY_MODEL_b0bf14efd81d4783b0df03c4e00c6bcf",
              "IPY_MODEL_85cde98c1117407cbaf539fbbfac5d65",
              "IPY_MODEL_1d1c963913714911944a0cd8d5993f95"
            ],
            "layout": "IPY_MODEL_b7bf2376794d4114b878a8a07b2254ab"
          }
        },
        "b0bf14efd81d4783b0df03c4e00c6bcf": {
          "model_module": "@jupyter-widgets/controls",
          "model_name": "HTMLModel",
          "model_module_version": "1.5.0",
          "state": {
            "_dom_classes": [],
            "_model_module": "@jupyter-widgets/controls",
            "_model_module_version": "1.5.0",
            "_model_name": "HTMLModel",
            "_view_count": null,
            "_view_module": "@jupyter-widgets/controls",
            "_view_module_version": "1.5.0",
            "_view_name": "HTMLView",
            "description": "",
            "description_tooltip": null,
            "layout": "IPY_MODEL_53762e4f166348dbaae95334613e84cc",
            "placeholder": "​",
            "style": "IPY_MODEL_3e585072ced84e9086100ae193365039",
            "value": "tokenizer.json: 100%"
          }
        },
        "85cde98c1117407cbaf539fbbfac5d65": {
          "model_module": "@jupyter-widgets/controls",
          "model_name": "FloatProgressModel",
          "model_module_version": "1.5.0",
          "state": {
            "_dom_classes": [],
            "_model_module": "@jupyter-widgets/controls",
            "_model_module_version": "1.5.0",
            "_model_name": "FloatProgressModel",
            "_view_count": null,
            "_view_module": "@jupyter-widgets/controls",
            "_view_module_version": "1.5.0",
            "_view_name": "ProgressView",
            "bar_style": "success",
            "description": "",
            "description_tooltip": null,
            "layout": "IPY_MODEL_1cf3f96b5dc3430282ae81511a1501aa",
            "max": 466062,
            "min": 0,
            "orientation": "horizontal",
            "style": "IPY_MODEL_962d0d68a26b459b8d9f0b0791ffe3b4",
            "value": 466062
          }
        },
        "1d1c963913714911944a0cd8d5993f95": {
          "model_module": "@jupyter-widgets/controls",
          "model_name": "HTMLModel",
          "model_module_version": "1.5.0",
          "state": {
            "_dom_classes": [],
            "_model_module": "@jupyter-widgets/controls",
            "_model_module_version": "1.5.0",
            "_model_name": "HTMLModel",
            "_view_count": null,
            "_view_module": "@jupyter-widgets/controls",
            "_view_module_version": "1.5.0",
            "_view_name": "HTMLView",
            "description": "",
            "description_tooltip": null,
            "layout": "IPY_MODEL_0001d2714f764e54b8ca5a16b1e5405e",
            "placeholder": "​",
            "style": "IPY_MODEL_3e20741ef0aa4e54ad93f425d068fb88",
            "value": " 466k/466k [00:00&lt;00:00, 829kB/s]"
          }
        },
        "b7bf2376794d4114b878a8a07b2254ab": {
          "model_module": "@jupyter-widgets/base",
          "model_name": "LayoutModel",
          "model_module_version": "1.2.0",
          "state": {
            "_model_module": "@jupyter-widgets/base",
            "_model_module_version": "1.2.0",
            "_model_name": "LayoutModel",
            "_view_count": null,
            "_view_module": "@jupyter-widgets/base",
            "_view_module_version": "1.2.0",
            "_view_name": "LayoutView",
            "align_content": null,
            "align_items": null,
            "align_self": null,
            "border": null,
            "bottom": null,
            "display": null,
            "flex": null,
            "flex_flow": null,
            "grid_area": null,
            "grid_auto_columns": null,
            "grid_auto_flow": null,
            "grid_auto_rows": null,
            "grid_column": null,
            "grid_gap": null,
            "grid_row": null,
            "grid_template_areas": null,
            "grid_template_columns": null,
            "grid_template_rows": null,
            "height": null,
            "justify_content": null,
            "justify_items": null,
            "left": null,
            "margin": null,
            "max_height": null,
            "max_width": null,
            "min_height": null,
            "min_width": null,
            "object_fit": null,
            "object_position": null,
            "order": null,
            "overflow": null,
            "overflow_x": null,
            "overflow_y": null,
            "padding": null,
            "right": null,
            "top": null,
            "visibility": null,
            "width": null
          }
        },
        "53762e4f166348dbaae95334613e84cc": {
          "model_module": "@jupyter-widgets/base",
          "model_name": "LayoutModel",
          "model_module_version": "1.2.0",
          "state": {
            "_model_module": "@jupyter-widgets/base",
            "_model_module_version": "1.2.0",
            "_model_name": "LayoutModel",
            "_view_count": null,
            "_view_module": "@jupyter-widgets/base",
            "_view_module_version": "1.2.0",
            "_view_name": "LayoutView",
            "align_content": null,
            "align_items": null,
            "align_self": null,
            "border": null,
            "bottom": null,
            "display": null,
            "flex": null,
            "flex_flow": null,
            "grid_area": null,
            "grid_auto_columns": null,
            "grid_auto_flow": null,
            "grid_auto_rows": null,
            "grid_column": null,
            "grid_gap": null,
            "grid_row": null,
            "grid_template_areas": null,
            "grid_template_columns": null,
            "grid_template_rows": null,
            "height": null,
            "justify_content": null,
            "justify_items": null,
            "left": null,
            "margin": null,
            "max_height": null,
            "max_width": null,
            "min_height": null,
            "min_width": null,
            "object_fit": null,
            "object_position": null,
            "order": null,
            "overflow": null,
            "overflow_x": null,
            "overflow_y": null,
            "padding": null,
            "right": null,
            "top": null,
            "visibility": null,
            "width": null
          }
        },
        "3e585072ced84e9086100ae193365039": {
          "model_module": "@jupyter-widgets/controls",
          "model_name": "DescriptionStyleModel",
          "model_module_version": "1.5.0",
          "state": {
            "_model_module": "@jupyter-widgets/controls",
            "_model_module_version": "1.5.0",
            "_model_name": "DescriptionStyleModel",
            "_view_count": null,
            "_view_module": "@jupyter-widgets/base",
            "_view_module_version": "1.2.0",
            "_view_name": "StyleView",
            "description_width": ""
          }
        },
        "1cf3f96b5dc3430282ae81511a1501aa": {
          "model_module": "@jupyter-widgets/base",
          "model_name": "LayoutModel",
          "model_module_version": "1.2.0",
          "state": {
            "_model_module": "@jupyter-widgets/base",
            "_model_module_version": "1.2.0",
            "_model_name": "LayoutModel",
            "_view_count": null,
            "_view_module": "@jupyter-widgets/base",
            "_view_module_version": "1.2.0",
            "_view_name": "LayoutView",
            "align_content": null,
            "align_items": null,
            "align_self": null,
            "border": null,
            "bottom": null,
            "display": null,
            "flex": null,
            "flex_flow": null,
            "grid_area": null,
            "grid_auto_columns": null,
            "grid_auto_flow": null,
            "grid_auto_rows": null,
            "grid_column": null,
            "grid_gap": null,
            "grid_row": null,
            "grid_template_areas": null,
            "grid_template_columns": null,
            "grid_template_rows": null,
            "height": null,
            "justify_content": null,
            "justify_items": null,
            "left": null,
            "margin": null,
            "max_height": null,
            "max_width": null,
            "min_height": null,
            "min_width": null,
            "object_fit": null,
            "object_position": null,
            "order": null,
            "overflow": null,
            "overflow_x": null,
            "overflow_y": null,
            "padding": null,
            "right": null,
            "top": null,
            "visibility": null,
            "width": null
          }
        },
        "962d0d68a26b459b8d9f0b0791ffe3b4": {
          "model_module": "@jupyter-widgets/controls",
          "model_name": "ProgressStyleModel",
          "model_module_version": "1.5.0",
          "state": {
            "_model_module": "@jupyter-widgets/controls",
            "_model_module_version": "1.5.0",
            "_model_name": "ProgressStyleModel",
            "_view_count": null,
            "_view_module": "@jupyter-widgets/base",
            "_view_module_version": "1.2.0",
            "_view_name": "StyleView",
            "bar_color": null,
            "description_width": ""
          }
        },
        "0001d2714f764e54b8ca5a16b1e5405e": {
          "model_module": "@jupyter-widgets/base",
          "model_name": "LayoutModel",
          "model_module_version": "1.2.0",
          "state": {
            "_model_module": "@jupyter-widgets/base",
            "_model_module_version": "1.2.0",
            "_model_name": "LayoutModel",
            "_view_count": null,
            "_view_module": "@jupyter-widgets/base",
            "_view_module_version": "1.2.0",
            "_view_name": "LayoutView",
            "align_content": null,
            "align_items": null,
            "align_self": null,
            "border": null,
            "bottom": null,
            "display": null,
            "flex": null,
            "flex_flow": null,
            "grid_area": null,
            "grid_auto_columns": null,
            "grid_auto_flow": null,
            "grid_auto_rows": null,
            "grid_column": null,
            "grid_gap": null,
            "grid_row": null,
            "grid_template_areas": null,
            "grid_template_columns": null,
            "grid_template_rows": null,
            "height": null,
            "justify_content": null,
            "justify_items": null,
            "left": null,
            "margin": null,
            "max_height": null,
            "max_width": null,
            "min_height": null,
            "min_width": null,
            "object_fit": null,
            "object_position": null,
            "order": null,
            "overflow": null,
            "overflow_x": null,
            "overflow_y": null,
            "padding": null,
            "right": null,
            "top": null,
            "visibility": null,
            "width": null
          }
        },
        "3e20741ef0aa4e54ad93f425d068fb88": {
          "model_module": "@jupyter-widgets/controls",
          "model_name": "DescriptionStyleModel",
          "model_module_version": "1.5.0",
          "state": {
            "_model_module": "@jupyter-widgets/controls",
            "_model_module_version": "1.5.0",
            "_model_name": "DescriptionStyleModel",
            "_view_count": null,
            "_view_module": "@jupyter-widgets/base",
            "_view_module_version": "1.2.0",
            "_view_name": "StyleView",
            "description_width": ""
          }
        },
        "c199e378aa004ccf81094359fc58b69b": {
          "model_module": "@jupyter-widgets/controls",
          "model_name": "HBoxModel",
          "model_module_version": "1.5.0",
          "state": {
            "_dom_classes": [],
            "_model_module": "@jupyter-widgets/controls",
            "_model_module_version": "1.5.0",
            "_model_name": "HBoxModel",
            "_view_count": null,
            "_view_module": "@jupyter-widgets/controls",
            "_view_module_version": "1.5.0",
            "_view_name": "HBoxView",
            "box_style": "",
            "children": [
              "IPY_MODEL_221afa81ccbc41058e443e93a0d09da8",
              "IPY_MODEL_6b9b329b4c7947a79e3a41096aaad797",
              "IPY_MODEL_a4afa34e61524c28951bf9e6d58db1c5"
            ],
            "layout": "IPY_MODEL_a9b6d1e405f44f719f603507affad579"
          }
        },
        "221afa81ccbc41058e443e93a0d09da8": {
          "model_module": "@jupyter-widgets/controls",
          "model_name": "HTMLModel",
          "model_module_version": "1.5.0",
          "state": {
            "_dom_classes": [],
            "_model_module": "@jupyter-widgets/controls",
            "_model_module_version": "1.5.0",
            "_model_name": "HTMLModel",
            "_view_count": null,
            "_view_module": "@jupyter-widgets/controls",
            "_view_module_version": "1.5.0",
            "_view_name": "HTMLView",
            "description": "",
            "description_tooltip": null,
            "layout": "IPY_MODEL_411bc485a28a4095a33e82730b0cbae1",
            "placeholder": "​",
            "style": "IPY_MODEL_631dc502484545ec806e0826d3b00ff1",
            "value": "config.json: 100%"
          }
        },
        "6b9b329b4c7947a79e3a41096aaad797": {
          "model_module": "@jupyter-widgets/controls",
          "model_name": "FloatProgressModel",
          "model_module_version": "1.5.0",
          "state": {
            "_dom_classes": [],
            "_model_module": "@jupyter-widgets/controls",
            "_model_module_version": "1.5.0",
            "_model_name": "FloatProgressModel",
            "_view_count": null,
            "_view_module": "@jupyter-widgets/controls",
            "_view_module_version": "1.5.0",
            "_view_name": "ProgressView",
            "bar_style": "success",
            "description": "",
            "description_tooltip": null,
            "layout": "IPY_MODEL_0d49630bc2ec41ca9344ded631cef6f8",
            "max": 570,
            "min": 0,
            "orientation": "horizontal",
            "style": "IPY_MODEL_3b9021f1e93a47de81328de3dd90e4df",
            "value": 570
          }
        },
        "a4afa34e61524c28951bf9e6d58db1c5": {
          "model_module": "@jupyter-widgets/controls",
          "model_name": "HTMLModel",
          "model_module_version": "1.5.0",
          "state": {
            "_dom_classes": [],
            "_model_module": "@jupyter-widgets/controls",
            "_model_module_version": "1.5.0",
            "_model_name": "HTMLModel",
            "_view_count": null,
            "_view_module": "@jupyter-widgets/controls",
            "_view_module_version": "1.5.0",
            "_view_name": "HTMLView",
            "description": "",
            "description_tooltip": null,
            "layout": "IPY_MODEL_9bc1500e8ea5485baa8f1d42d734f115",
            "placeholder": "​",
            "style": "IPY_MODEL_6683a26b9a40486090d935aadf3aea26",
            "value": " 570/570 [00:00&lt;00:00, 23.6kB/s]"
          }
        },
        "a9b6d1e405f44f719f603507affad579": {
          "model_module": "@jupyter-widgets/base",
          "model_name": "LayoutModel",
          "model_module_version": "1.2.0",
          "state": {
            "_model_module": "@jupyter-widgets/base",
            "_model_module_version": "1.2.0",
            "_model_name": "LayoutModel",
            "_view_count": null,
            "_view_module": "@jupyter-widgets/base",
            "_view_module_version": "1.2.0",
            "_view_name": "LayoutView",
            "align_content": null,
            "align_items": null,
            "align_self": null,
            "border": null,
            "bottom": null,
            "display": null,
            "flex": null,
            "flex_flow": null,
            "grid_area": null,
            "grid_auto_columns": null,
            "grid_auto_flow": null,
            "grid_auto_rows": null,
            "grid_column": null,
            "grid_gap": null,
            "grid_row": null,
            "grid_template_areas": null,
            "grid_template_columns": null,
            "grid_template_rows": null,
            "height": null,
            "justify_content": null,
            "justify_items": null,
            "left": null,
            "margin": null,
            "max_height": null,
            "max_width": null,
            "min_height": null,
            "min_width": null,
            "object_fit": null,
            "object_position": null,
            "order": null,
            "overflow": null,
            "overflow_x": null,
            "overflow_y": null,
            "padding": null,
            "right": null,
            "top": null,
            "visibility": null,
            "width": null
          }
        },
        "411bc485a28a4095a33e82730b0cbae1": {
          "model_module": "@jupyter-widgets/base",
          "model_name": "LayoutModel",
          "model_module_version": "1.2.0",
          "state": {
            "_model_module": "@jupyter-widgets/base",
            "_model_module_version": "1.2.0",
            "_model_name": "LayoutModel",
            "_view_count": null,
            "_view_module": "@jupyter-widgets/base",
            "_view_module_version": "1.2.0",
            "_view_name": "LayoutView",
            "align_content": null,
            "align_items": null,
            "align_self": null,
            "border": null,
            "bottom": null,
            "display": null,
            "flex": null,
            "flex_flow": null,
            "grid_area": null,
            "grid_auto_columns": null,
            "grid_auto_flow": null,
            "grid_auto_rows": null,
            "grid_column": null,
            "grid_gap": null,
            "grid_row": null,
            "grid_template_areas": null,
            "grid_template_columns": null,
            "grid_template_rows": null,
            "height": null,
            "justify_content": null,
            "justify_items": null,
            "left": null,
            "margin": null,
            "max_height": null,
            "max_width": null,
            "min_height": null,
            "min_width": null,
            "object_fit": null,
            "object_position": null,
            "order": null,
            "overflow": null,
            "overflow_x": null,
            "overflow_y": null,
            "padding": null,
            "right": null,
            "top": null,
            "visibility": null,
            "width": null
          }
        },
        "631dc502484545ec806e0826d3b00ff1": {
          "model_module": "@jupyter-widgets/controls",
          "model_name": "DescriptionStyleModel",
          "model_module_version": "1.5.0",
          "state": {
            "_model_module": "@jupyter-widgets/controls",
            "_model_module_version": "1.5.0",
            "_model_name": "DescriptionStyleModel",
            "_view_count": null,
            "_view_module": "@jupyter-widgets/base",
            "_view_module_version": "1.2.0",
            "_view_name": "StyleView",
            "description_width": ""
          }
        },
        "0d49630bc2ec41ca9344ded631cef6f8": {
          "model_module": "@jupyter-widgets/base",
          "model_name": "LayoutModel",
          "model_module_version": "1.2.0",
          "state": {
            "_model_module": "@jupyter-widgets/base",
            "_model_module_version": "1.2.0",
            "_model_name": "LayoutModel",
            "_view_count": null,
            "_view_module": "@jupyter-widgets/base",
            "_view_module_version": "1.2.0",
            "_view_name": "LayoutView",
            "align_content": null,
            "align_items": null,
            "align_self": null,
            "border": null,
            "bottom": null,
            "display": null,
            "flex": null,
            "flex_flow": null,
            "grid_area": null,
            "grid_auto_columns": null,
            "grid_auto_flow": null,
            "grid_auto_rows": null,
            "grid_column": null,
            "grid_gap": null,
            "grid_row": null,
            "grid_template_areas": null,
            "grid_template_columns": null,
            "grid_template_rows": null,
            "height": null,
            "justify_content": null,
            "justify_items": null,
            "left": null,
            "margin": null,
            "max_height": null,
            "max_width": null,
            "min_height": null,
            "min_width": null,
            "object_fit": null,
            "object_position": null,
            "order": null,
            "overflow": null,
            "overflow_x": null,
            "overflow_y": null,
            "padding": null,
            "right": null,
            "top": null,
            "visibility": null,
            "width": null
          }
        },
        "3b9021f1e93a47de81328de3dd90e4df": {
          "model_module": "@jupyter-widgets/controls",
          "model_name": "ProgressStyleModel",
          "model_module_version": "1.5.0",
          "state": {
            "_model_module": "@jupyter-widgets/controls",
            "_model_module_version": "1.5.0",
            "_model_name": "ProgressStyleModel",
            "_view_count": null,
            "_view_module": "@jupyter-widgets/base",
            "_view_module_version": "1.2.0",
            "_view_name": "StyleView",
            "bar_color": null,
            "description_width": ""
          }
        },
        "9bc1500e8ea5485baa8f1d42d734f115": {
          "model_module": "@jupyter-widgets/base",
          "model_name": "LayoutModel",
          "model_module_version": "1.2.0",
          "state": {
            "_model_module": "@jupyter-widgets/base",
            "_model_module_version": "1.2.0",
            "_model_name": "LayoutModel",
            "_view_count": null,
            "_view_module": "@jupyter-widgets/base",
            "_view_module_version": "1.2.0",
            "_view_name": "LayoutView",
            "align_content": null,
            "align_items": null,
            "align_self": null,
            "border": null,
            "bottom": null,
            "display": null,
            "flex": null,
            "flex_flow": null,
            "grid_area": null,
            "grid_auto_columns": null,
            "grid_auto_flow": null,
            "grid_auto_rows": null,
            "grid_column": null,
            "grid_gap": null,
            "grid_row": null,
            "grid_template_areas": null,
            "grid_template_columns": null,
            "grid_template_rows": null,
            "height": null,
            "justify_content": null,
            "justify_items": null,
            "left": null,
            "margin": null,
            "max_height": null,
            "max_width": null,
            "min_height": null,
            "min_width": null,
            "object_fit": null,
            "object_position": null,
            "order": null,
            "overflow": null,
            "overflow_x": null,
            "overflow_y": null,
            "padding": null,
            "right": null,
            "top": null,
            "visibility": null,
            "width": null
          }
        },
        "6683a26b9a40486090d935aadf3aea26": {
          "model_module": "@jupyter-widgets/controls",
          "model_name": "DescriptionStyleModel",
          "model_module_version": "1.5.0",
          "state": {
            "_model_module": "@jupyter-widgets/controls",
            "_model_module_version": "1.5.0",
            "_model_name": "DescriptionStyleModel",
            "_view_count": null,
            "_view_module": "@jupyter-widgets/base",
            "_view_module_version": "1.2.0",
            "_view_name": "StyleView",
            "description_width": ""
          }
        },
        "96be2c8d4ea142eebe36d79e255608a8": {
          "model_module": "@jupyter-widgets/controls",
          "model_name": "HBoxModel",
          "model_module_version": "1.5.0",
          "state": {
            "_dom_classes": [],
            "_model_module": "@jupyter-widgets/controls",
            "_model_module_version": "1.5.0",
            "_model_name": "HBoxModel",
            "_view_count": null,
            "_view_module": "@jupyter-widgets/controls",
            "_view_module_version": "1.5.0",
            "_view_name": "HBoxView",
            "box_style": "",
            "children": [
              "IPY_MODEL_cbd2cd11d5b347c4926ec731090087b9",
              "IPY_MODEL_98799102ba4f4590b05f55eae6f524f1",
              "IPY_MODEL_975eaf7d04294cc8a9fea1e7ab2fa417"
            ],
            "layout": "IPY_MODEL_5d420ae8f2424bd2b2ae179ed3c19a10"
          }
        },
        "cbd2cd11d5b347c4926ec731090087b9": {
          "model_module": "@jupyter-widgets/controls",
          "model_name": "HTMLModel",
          "model_module_version": "1.5.0",
          "state": {
            "_dom_classes": [],
            "_model_module": "@jupyter-widgets/controls",
            "_model_module_version": "1.5.0",
            "_model_name": "HTMLModel",
            "_view_count": null,
            "_view_module": "@jupyter-widgets/controls",
            "_view_module_version": "1.5.0",
            "_view_name": "HTMLView",
            "description": "",
            "description_tooltip": null,
            "layout": "IPY_MODEL_5903932e46974de397406de4a37cc004",
            "placeholder": "​",
            "style": "IPY_MODEL_cd9001b75811428793e7464af8b00bef",
            "value": "tokenizer_config.json: 100%"
          }
        },
        "98799102ba4f4590b05f55eae6f524f1": {
          "model_module": "@jupyter-widgets/controls",
          "model_name": "FloatProgressModel",
          "model_module_version": "1.5.0",
          "state": {
            "_dom_classes": [],
            "_model_module": "@jupyter-widgets/controls",
            "_model_module_version": "1.5.0",
            "_model_name": "FloatProgressModel",
            "_view_count": null,
            "_view_module": "@jupyter-widgets/controls",
            "_view_module_version": "1.5.0",
            "_view_name": "ProgressView",
            "bar_style": "success",
            "description": "",
            "description_tooltip": null,
            "layout": "IPY_MODEL_460410111f914754beaea7b9890569a3",
            "max": 2324,
            "min": 0,
            "orientation": "horizontal",
            "style": "IPY_MODEL_939dcbb66a1645c48c33188a2e9d1e6f",
            "value": 2324
          }
        },
        "975eaf7d04294cc8a9fea1e7ab2fa417": {
          "model_module": "@jupyter-widgets/controls",
          "model_name": "HTMLModel",
          "model_module_version": "1.5.0",
          "state": {
            "_dom_classes": [],
            "_model_module": "@jupyter-widgets/controls",
            "_model_module_version": "1.5.0",
            "_model_name": "HTMLModel",
            "_view_count": null,
            "_view_module": "@jupyter-widgets/controls",
            "_view_module_version": "1.5.0",
            "_view_name": "HTMLView",
            "description": "",
            "description_tooltip": null,
            "layout": "IPY_MODEL_aa889171ccf043b18805e9000a3cf5e5",
            "placeholder": "​",
            "style": "IPY_MODEL_7eea48cf32e54c828df0a077f0f010f1",
            "value": " 2.32k/2.32k [00:00&lt;00:00, 85.4kB/s]"
          }
        },
        "5d420ae8f2424bd2b2ae179ed3c19a10": {
          "model_module": "@jupyter-widgets/base",
          "model_name": "LayoutModel",
          "model_module_version": "1.2.0",
          "state": {
            "_model_module": "@jupyter-widgets/base",
            "_model_module_version": "1.2.0",
            "_model_name": "LayoutModel",
            "_view_count": null,
            "_view_module": "@jupyter-widgets/base",
            "_view_module_version": "1.2.0",
            "_view_name": "LayoutView",
            "align_content": null,
            "align_items": null,
            "align_self": null,
            "border": null,
            "bottom": null,
            "display": null,
            "flex": null,
            "flex_flow": null,
            "grid_area": null,
            "grid_auto_columns": null,
            "grid_auto_flow": null,
            "grid_auto_rows": null,
            "grid_column": null,
            "grid_gap": null,
            "grid_row": null,
            "grid_template_areas": null,
            "grid_template_columns": null,
            "grid_template_rows": null,
            "height": null,
            "justify_content": null,
            "justify_items": null,
            "left": null,
            "margin": null,
            "max_height": null,
            "max_width": null,
            "min_height": null,
            "min_width": null,
            "object_fit": null,
            "object_position": null,
            "order": null,
            "overflow": null,
            "overflow_x": null,
            "overflow_y": null,
            "padding": null,
            "right": null,
            "top": null,
            "visibility": null,
            "width": null
          }
        },
        "5903932e46974de397406de4a37cc004": {
          "model_module": "@jupyter-widgets/base",
          "model_name": "LayoutModel",
          "model_module_version": "1.2.0",
          "state": {
            "_model_module": "@jupyter-widgets/base",
            "_model_module_version": "1.2.0",
            "_model_name": "LayoutModel",
            "_view_count": null,
            "_view_module": "@jupyter-widgets/base",
            "_view_module_version": "1.2.0",
            "_view_name": "LayoutView",
            "align_content": null,
            "align_items": null,
            "align_self": null,
            "border": null,
            "bottom": null,
            "display": null,
            "flex": null,
            "flex_flow": null,
            "grid_area": null,
            "grid_auto_columns": null,
            "grid_auto_flow": null,
            "grid_auto_rows": null,
            "grid_column": null,
            "grid_gap": null,
            "grid_row": null,
            "grid_template_areas": null,
            "grid_template_columns": null,
            "grid_template_rows": null,
            "height": null,
            "justify_content": null,
            "justify_items": null,
            "left": null,
            "margin": null,
            "max_height": null,
            "max_width": null,
            "min_height": null,
            "min_width": null,
            "object_fit": null,
            "object_position": null,
            "order": null,
            "overflow": null,
            "overflow_x": null,
            "overflow_y": null,
            "padding": null,
            "right": null,
            "top": null,
            "visibility": null,
            "width": null
          }
        },
        "cd9001b75811428793e7464af8b00bef": {
          "model_module": "@jupyter-widgets/controls",
          "model_name": "DescriptionStyleModel",
          "model_module_version": "1.5.0",
          "state": {
            "_model_module": "@jupyter-widgets/controls",
            "_model_module_version": "1.5.0",
            "_model_name": "DescriptionStyleModel",
            "_view_count": null,
            "_view_module": "@jupyter-widgets/base",
            "_view_module_version": "1.2.0",
            "_view_name": "StyleView",
            "description_width": ""
          }
        },
        "460410111f914754beaea7b9890569a3": {
          "model_module": "@jupyter-widgets/base",
          "model_name": "LayoutModel",
          "model_module_version": "1.2.0",
          "state": {
            "_model_module": "@jupyter-widgets/base",
            "_model_module_version": "1.2.0",
            "_model_name": "LayoutModel",
            "_view_count": null,
            "_view_module": "@jupyter-widgets/base",
            "_view_module_version": "1.2.0",
            "_view_name": "LayoutView",
            "align_content": null,
            "align_items": null,
            "align_self": null,
            "border": null,
            "bottom": null,
            "display": null,
            "flex": null,
            "flex_flow": null,
            "grid_area": null,
            "grid_auto_columns": null,
            "grid_auto_flow": null,
            "grid_auto_rows": null,
            "grid_column": null,
            "grid_gap": null,
            "grid_row": null,
            "grid_template_areas": null,
            "grid_template_columns": null,
            "grid_template_rows": null,
            "height": null,
            "justify_content": null,
            "justify_items": null,
            "left": null,
            "margin": null,
            "max_height": null,
            "max_width": null,
            "min_height": null,
            "min_width": null,
            "object_fit": null,
            "object_position": null,
            "order": null,
            "overflow": null,
            "overflow_x": null,
            "overflow_y": null,
            "padding": null,
            "right": null,
            "top": null,
            "visibility": null,
            "width": null
          }
        },
        "939dcbb66a1645c48c33188a2e9d1e6f": {
          "model_module": "@jupyter-widgets/controls",
          "model_name": "ProgressStyleModel",
          "model_module_version": "1.5.0",
          "state": {
            "_model_module": "@jupyter-widgets/controls",
            "_model_module_version": "1.5.0",
            "_model_name": "ProgressStyleModel",
            "_view_count": null,
            "_view_module": "@jupyter-widgets/base",
            "_view_module_version": "1.2.0",
            "_view_name": "StyleView",
            "bar_color": null,
            "description_width": ""
          }
        },
        "aa889171ccf043b18805e9000a3cf5e5": {
          "model_module": "@jupyter-widgets/base",
          "model_name": "LayoutModel",
          "model_module_version": "1.2.0",
          "state": {
            "_model_module": "@jupyter-widgets/base",
            "_model_module_version": "1.2.0",
            "_model_name": "LayoutModel",
            "_view_count": null,
            "_view_module": "@jupyter-widgets/base",
            "_view_module_version": "1.2.0",
            "_view_name": "LayoutView",
            "align_content": null,
            "align_items": null,
            "align_self": null,
            "border": null,
            "bottom": null,
            "display": null,
            "flex": null,
            "flex_flow": null,
            "grid_area": null,
            "grid_auto_columns": null,
            "grid_auto_flow": null,
            "grid_auto_rows": null,
            "grid_column": null,
            "grid_gap": null,
            "grid_row": null,
            "grid_template_areas": null,
            "grid_template_columns": null,
            "grid_template_rows": null,
            "height": null,
            "justify_content": null,
            "justify_items": null,
            "left": null,
            "margin": null,
            "max_height": null,
            "max_width": null,
            "min_height": null,
            "min_width": null,
            "object_fit": null,
            "object_position": null,
            "order": null,
            "overflow": null,
            "overflow_x": null,
            "overflow_y": null,
            "padding": null,
            "right": null,
            "top": null,
            "visibility": null,
            "width": null
          }
        },
        "7eea48cf32e54c828df0a077f0f010f1": {
          "model_module": "@jupyter-widgets/controls",
          "model_name": "DescriptionStyleModel",
          "model_module_version": "1.5.0",
          "state": {
            "_model_module": "@jupyter-widgets/controls",
            "_model_module_version": "1.5.0",
            "_model_name": "DescriptionStyleModel",
            "_view_count": null,
            "_view_module": "@jupyter-widgets/base",
            "_view_module_version": "1.2.0",
            "_view_name": "StyleView",
            "description_width": ""
          }
        },
        "a9fe5451396e436a89c89485cd093c52": {
          "model_module": "@jupyter-widgets/controls",
          "model_name": "HBoxModel",
          "model_module_version": "1.5.0",
          "state": {
            "_dom_classes": [],
            "_model_module": "@jupyter-widgets/controls",
            "_model_module_version": "1.5.0",
            "_model_name": "HBoxModel",
            "_view_count": null,
            "_view_module": "@jupyter-widgets/controls",
            "_view_module_version": "1.5.0",
            "_view_name": "HBoxView",
            "box_style": "",
            "children": [
              "IPY_MODEL_a518b7aef66345f3ad999d753b5dbdfb",
              "IPY_MODEL_9a4bb2ea5a7b4364aefa087b024d2b89",
              "IPY_MODEL_4bbed9e7a9814f0bac93d06221e0327b"
            ],
            "layout": "IPY_MODEL_6489e1d802eb497493056277c91bd6e4"
          }
        },
        "a518b7aef66345f3ad999d753b5dbdfb": {
          "model_module": "@jupyter-widgets/controls",
          "model_name": "HTMLModel",
          "model_module_version": "1.5.0",
          "state": {
            "_dom_classes": [],
            "_model_module": "@jupyter-widgets/controls",
            "_model_module_version": "1.5.0",
            "_model_name": "HTMLModel",
            "_view_count": null,
            "_view_module": "@jupyter-widgets/controls",
            "_view_module_version": "1.5.0",
            "_view_name": "HTMLView",
            "description": "",
            "description_tooltip": null,
            "layout": "IPY_MODEL_8f1d60dc710b4ed3beb5b5de6176cc8b",
            "placeholder": "​",
            "style": "IPY_MODEL_8fc0294d738240fa93fd015e4cad9aaa",
            "value": "spiece.model: 100%"
          }
        },
        "9a4bb2ea5a7b4364aefa087b024d2b89": {
          "model_module": "@jupyter-widgets/controls",
          "model_name": "FloatProgressModel",
          "model_module_version": "1.5.0",
          "state": {
            "_dom_classes": [],
            "_model_module": "@jupyter-widgets/controls",
            "_model_module_version": "1.5.0",
            "_model_name": "FloatProgressModel",
            "_view_count": null,
            "_view_module": "@jupyter-widgets/controls",
            "_view_module_version": "1.5.0",
            "_view_name": "ProgressView",
            "bar_style": "success",
            "description": "",
            "description_tooltip": null,
            "layout": "IPY_MODEL_b62dd45a72b94e88b6f33ae5096bcb22",
            "max": 791656,
            "min": 0,
            "orientation": "horizontal",
            "style": "IPY_MODEL_710938afff404a8aacb9da26f27c47d1",
            "value": 791656
          }
        },
        "4bbed9e7a9814f0bac93d06221e0327b": {
          "model_module": "@jupyter-widgets/controls",
          "model_name": "HTMLModel",
          "model_module_version": "1.5.0",
          "state": {
            "_dom_classes": [],
            "_model_module": "@jupyter-widgets/controls",
            "_model_module_version": "1.5.0",
            "_model_name": "HTMLModel",
            "_view_count": null,
            "_view_module": "@jupyter-widgets/controls",
            "_view_module_version": "1.5.0",
            "_view_name": "HTMLView",
            "description": "",
            "description_tooltip": null,
            "layout": "IPY_MODEL_8d54d954d99140beb1d9102247324c59",
            "placeholder": "​",
            "style": "IPY_MODEL_26dbbd6a0e04499d8ed8a396d6effef5",
            "value": " 792k/792k [00:00&lt;00:00, 4.10MB/s]"
          }
        },
        "6489e1d802eb497493056277c91bd6e4": {
          "model_module": "@jupyter-widgets/base",
          "model_name": "LayoutModel",
          "model_module_version": "1.2.0",
          "state": {
            "_model_module": "@jupyter-widgets/base",
            "_model_module_version": "1.2.0",
            "_model_name": "LayoutModel",
            "_view_count": null,
            "_view_module": "@jupyter-widgets/base",
            "_view_module_version": "1.2.0",
            "_view_name": "LayoutView",
            "align_content": null,
            "align_items": null,
            "align_self": null,
            "border": null,
            "bottom": null,
            "display": null,
            "flex": null,
            "flex_flow": null,
            "grid_area": null,
            "grid_auto_columns": null,
            "grid_auto_flow": null,
            "grid_auto_rows": null,
            "grid_column": null,
            "grid_gap": null,
            "grid_row": null,
            "grid_template_areas": null,
            "grid_template_columns": null,
            "grid_template_rows": null,
            "height": null,
            "justify_content": null,
            "justify_items": null,
            "left": null,
            "margin": null,
            "max_height": null,
            "max_width": null,
            "min_height": null,
            "min_width": null,
            "object_fit": null,
            "object_position": null,
            "order": null,
            "overflow": null,
            "overflow_x": null,
            "overflow_y": null,
            "padding": null,
            "right": null,
            "top": null,
            "visibility": null,
            "width": null
          }
        },
        "8f1d60dc710b4ed3beb5b5de6176cc8b": {
          "model_module": "@jupyter-widgets/base",
          "model_name": "LayoutModel",
          "model_module_version": "1.2.0",
          "state": {
            "_model_module": "@jupyter-widgets/base",
            "_model_module_version": "1.2.0",
            "_model_name": "LayoutModel",
            "_view_count": null,
            "_view_module": "@jupyter-widgets/base",
            "_view_module_version": "1.2.0",
            "_view_name": "LayoutView",
            "align_content": null,
            "align_items": null,
            "align_self": null,
            "border": null,
            "bottom": null,
            "display": null,
            "flex": null,
            "flex_flow": null,
            "grid_area": null,
            "grid_auto_columns": null,
            "grid_auto_flow": null,
            "grid_auto_rows": null,
            "grid_column": null,
            "grid_gap": null,
            "grid_row": null,
            "grid_template_areas": null,
            "grid_template_columns": null,
            "grid_template_rows": null,
            "height": null,
            "justify_content": null,
            "justify_items": null,
            "left": null,
            "margin": null,
            "max_height": null,
            "max_width": null,
            "min_height": null,
            "min_width": null,
            "object_fit": null,
            "object_position": null,
            "order": null,
            "overflow": null,
            "overflow_x": null,
            "overflow_y": null,
            "padding": null,
            "right": null,
            "top": null,
            "visibility": null,
            "width": null
          }
        },
        "8fc0294d738240fa93fd015e4cad9aaa": {
          "model_module": "@jupyter-widgets/controls",
          "model_name": "DescriptionStyleModel",
          "model_module_version": "1.5.0",
          "state": {
            "_model_module": "@jupyter-widgets/controls",
            "_model_module_version": "1.5.0",
            "_model_name": "DescriptionStyleModel",
            "_view_count": null,
            "_view_module": "@jupyter-widgets/base",
            "_view_module_version": "1.2.0",
            "_view_name": "StyleView",
            "description_width": ""
          }
        },
        "b62dd45a72b94e88b6f33ae5096bcb22": {
          "model_module": "@jupyter-widgets/base",
          "model_name": "LayoutModel",
          "model_module_version": "1.2.0",
          "state": {
            "_model_module": "@jupyter-widgets/base",
            "_model_module_version": "1.2.0",
            "_model_name": "LayoutModel",
            "_view_count": null,
            "_view_module": "@jupyter-widgets/base",
            "_view_module_version": "1.2.0",
            "_view_name": "LayoutView",
            "align_content": null,
            "align_items": null,
            "align_self": null,
            "border": null,
            "bottom": null,
            "display": null,
            "flex": null,
            "flex_flow": null,
            "grid_area": null,
            "grid_auto_columns": null,
            "grid_auto_flow": null,
            "grid_auto_rows": null,
            "grid_column": null,
            "grid_gap": null,
            "grid_row": null,
            "grid_template_areas": null,
            "grid_template_columns": null,
            "grid_template_rows": null,
            "height": null,
            "justify_content": null,
            "justify_items": null,
            "left": null,
            "margin": null,
            "max_height": null,
            "max_width": null,
            "min_height": null,
            "min_width": null,
            "object_fit": null,
            "object_position": null,
            "order": null,
            "overflow": null,
            "overflow_x": null,
            "overflow_y": null,
            "padding": null,
            "right": null,
            "top": null,
            "visibility": null,
            "width": null
          }
        },
        "710938afff404a8aacb9da26f27c47d1": {
          "model_module": "@jupyter-widgets/controls",
          "model_name": "ProgressStyleModel",
          "model_module_version": "1.5.0",
          "state": {
            "_model_module": "@jupyter-widgets/controls",
            "_model_module_version": "1.5.0",
            "_model_name": "ProgressStyleModel",
            "_view_count": null,
            "_view_module": "@jupyter-widgets/base",
            "_view_module_version": "1.2.0",
            "_view_name": "StyleView",
            "bar_color": null,
            "description_width": ""
          }
        },
        "8d54d954d99140beb1d9102247324c59": {
          "model_module": "@jupyter-widgets/base",
          "model_name": "LayoutModel",
          "model_module_version": "1.2.0",
          "state": {
            "_model_module": "@jupyter-widgets/base",
            "_model_module_version": "1.2.0",
            "_model_name": "LayoutModel",
            "_view_count": null,
            "_view_module": "@jupyter-widgets/base",
            "_view_module_version": "1.2.0",
            "_view_name": "LayoutView",
            "align_content": null,
            "align_items": null,
            "align_self": null,
            "border": null,
            "bottom": null,
            "display": null,
            "flex": null,
            "flex_flow": null,
            "grid_area": null,
            "grid_auto_columns": null,
            "grid_auto_flow": null,
            "grid_auto_rows": null,
            "grid_column": null,
            "grid_gap": null,
            "grid_row": null,
            "grid_template_areas": null,
            "grid_template_columns": null,
            "grid_template_rows": null,
            "height": null,
            "justify_content": null,
            "justify_items": null,
            "left": null,
            "margin": null,
            "max_height": null,
            "max_width": null,
            "min_height": null,
            "min_width": null,
            "object_fit": null,
            "object_position": null,
            "order": null,
            "overflow": null,
            "overflow_x": null,
            "overflow_y": null,
            "padding": null,
            "right": null,
            "top": null,
            "visibility": null,
            "width": null
          }
        },
        "26dbbd6a0e04499d8ed8a396d6effef5": {
          "model_module": "@jupyter-widgets/controls",
          "model_name": "DescriptionStyleModel",
          "model_module_version": "1.5.0",
          "state": {
            "_model_module": "@jupyter-widgets/controls",
            "_model_module_version": "1.5.0",
            "_model_name": "DescriptionStyleModel",
            "_view_count": null,
            "_view_module": "@jupyter-widgets/base",
            "_view_module_version": "1.2.0",
            "_view_name": "StyleView",
            "description_width": ""
          }
        },
        "183ae3c51390446db7656b4bd040702f": {
          "model_module": "@jupyter-widgets/controls",
          "model_name": "HBoxModel",
          "model_module_version": "1.5.0",
          "state": {
            "_dom_classes": [],
            "_model_module": "@jupyter-widgets/controls",
            "_model_module_version": "1.5.0",
            "_model_name": "HBoxModel",
            "_view_count": null,
            "_view_module": "@jupyter-widgets/controls",
            "_view_module_version": "1.5.0",
            "_view_name": "HBoxView",
            "box_style": "",
            "children": [
              "IPY_MODEL_912465a1d613464b9f29fa117177a144",
              "IPY_MODEL_fd30f1403b124db78016649e74a5d891",
              "IPY_MODEL_4bd2820aa143422199e4d075279a4e3a"
            ],
            "layout": "IPY_MODEL_9fd3ec600f1f4a33a43c9e631ccf32f3"
          }
        },
        "912465a1d613464b9f29fa117177a144": {
          "model_module": "@jupyter-widgets/controls",
          "model_name": "HTMLModel",
          "model_module_version": "1.5.0",
          "state": {
            "_dom_classes": [],
            "_model_module": "@jupyter-widgets/controls",
            "_model_module_version": "1.5.0",
            "_model_name": "HTMLModel",
            "_view_count": null,
            "_view_module": "@jupyter-widgets/controls",
            "_view_module_version": "1.5.0",
            "_view_name": "HTMLView",
            "description": "",
            "description_tooltip": null,
            "layout": "IPY_MODEL_d686381a3f2e4ee7867421b0e8de6355",
            "placeholder": "​",
            "style": "IPY_MODEL_68147a3571c042838908351eacaf82f8",
            "value": "tokenizer.json: 100%"
          }
        },
        "fd30f1403b124db78016649e74a5d891": {
          "model_module": "@jupyter-widgets/controls",
          "model_name": "FloatProgressModel",
          "model_module_version": "1.5.0",
          "state": {
            "_dom_classes": [],
            "_model_module": "@jupyter-widgets/controls",
            "_model_module_version": "1.5.0",
            "_model_name": "FloatProgressModel",
            "_view_count": null,
            "_view_module": "@jupyter-widgets/controls",
            "_view_module_version": "1.5.0",
            "_view_name": "ProgressView",
            "bar_style": "success",
            "description": "",
            "description_tooltip": null,
            "layout": "IPY_MODEL_d2b43d08dbd349d6b9f3302a0c052f72",
            "max": 1389353,
            "min": 0,
            "orientation": "horizontal",
            "style": "IPY_MODEL_26a40f37a98d4519919dcdf01c3f189b",
            "value": 1389353
          }
        },
        "4bd2820aa143422199e4d075279a4e3a": {
          "model_module": "@jupyter-widgets/controls",
          "model_name": "HTMLModel",
          "model_module_version": "1.5.0",
          "state": {
            "_dom_classes": [],
            "_model_module": "@jupyter-widgets/controls",
            "_model_module_version": "1.5.0",
            "_model_name": "HTMLModel",
            "_view_count": null,
            "_view_module": "@jupyter-widgets/controls",
            "_view_module_version": "1.5.0",
            "_view_name": "HTMLView",
            "description": "",
            "description_tooltip": null,
            "layout": "IPY_MODEL_a97690ab684146a5abf49867ee6afece",
            "placeholder": "​",
            "style": "IPY_MODEL_a0c70a13271a4a4cb473019339493464",
            "value": " 1.39M/1.39M [00:00&lt;00:00, 1.49MB/s]"
          }
        },
        "9fd3ec600f1f4a33a43c9e631ccf32f3": {
          "model_module": "@jupyter-widgets/base",
          "model_name": "LayoutModel",
          "model_module_version": "1.2.0",
          "state": {
            "_model_module": "@jupyter-widgets/base",
            "_model_module_version": "1.2.0",
            "_model_name": "LayoutModel",
            "_view_count": null,
            "_view_module": "@jupyter-widgets/base",
            "_view_module_version": "1.2.0",
            "_view_name": "LayoutView",
            "align_content": null,
            "align_items": null,
            "align_self": null,
            "border": null,
            "bottom": null,
            "display": null,
            "flex": null,
            "flex_flow": null,
            "grid_area": null,
            "grid_auto_columns": null,
            "grid_auto_flow": null,
            "grid_auto_rows": null,
            "grid_column": null,
            "grid_gap": null,
            "grid_row": null,
            "grid_template_areas": null,
            "grid_template_columns": null,
            "grid_template_rows": null,
            "height": null,
            "justify_content": null,
            "justify_items": null,
            "left": null,
            "margin": null,
            "max_height": null,
            "max_width": null,
            "min_height": null,
            "min_width": null,
            "object_fit": null,
            "object_position": null,
            "order": null,
            "overflow": null,
            "overflow_x": null,
            "overflow_y": null,
            "padding": null,
            "right": null,
            "top": null,
            "visibility": null,
            "width": null
          }
        },
        "d686381a3f2e4ee7867421b0e8de6355": {
          "model_module": "@jupyter-widgets/base",
          "model_name": "LayoutModel",
          "model_module_version": "1.2.0",
          "state": {
            "_model_module": "@jupyter-widgets/base",
            "_model_module_version": "1.2.0",
            "_model_name": "LayoutModel",
            "_view_count": null,
            "_view_module": "@jupyter-widgets/base",
            "_view_module_version": "1.2.0",
            "_view_name": "LayoutView",
            "align_content": null,
            "align_items": null,
            "align_self": null,
            "border": null,
            "bottom": null,
            "display": null,
            "flex": null,
            "flex_flow": null,
            "grid_area": null,
            "grid_auto_columns": null,
            "grid_auto_flow": null,
            "grid_auto_rows": null,
            "grid_column": null,
            "grid_gap": null,
            "grid_row": null,
            "grid_template_areas": null,
            "grid_template_columns": null,
            "grid_template_rows": null,
            "height": null,
            "justify_content": null,
            "justify_items": null,
            "left": null,
            "margin": null,
            "max_height": null,
            "max_width": null,
            "min_height": null,
            "min_width": null,
            "object_fit": null,
            "object_position": null,
            "order": null,
            "overflow": null,
            "overflow_x": null,
            "overflow_y": null,
            "padding": null,
            "right": null,
            "top": null,
            "visibility": null,
            "width": null
          }
        },
        "68147a3571c042838908351eacaf82f8": {
          "model_module": "@jupyter-widgets/controls",
          "model_name": "DescriptionStyleModel",
          "model_module_version": "1.5.0",
          "state": {
            "_model_module": "@jupyter-widgets/controls",
            "_model_module_version": "1.5.0",
            "_model_name": "DescriptionStyleModel",
            "_view_count": null,
            "_view_module": "@jupyter-widgets/base",
            "_view_module_version": "1.2.0",
            "_view_name": "StyleView",
            "description_width": ""
          }
        },
        "d2b43d08dbd349d6b9f3302a0c052f72": {
          "model_module": "@jupyter-widgets/base",
          "model_name": "LayoutModel",
          "model_module_version": "1.2.0",
          "state": {
            "_model_module": "@jupyter-widgets/base",
            "_model_module_version": "1.2.0",
            "_model_name": "LayoutModel",
            "_view_count": null,
            "_view_module": "@jupyter-widgets/base",
            "_view_module_version": "1.2.0",
            "_view_name": "LayoutView",
            "align_content": null,
            "align_items": null,
            "align_self": null,
            "border": null,
            "bottom": null,
            "display": null,
            "flex": null,
            "flex_flow": null,
            "grid_area": null,
            "grid_auto_columns": null,
            "grid_auto_flow": null,
            "grid_auto_rows": null,
            "grid_column": null,
            "grid_gap": null,
            "grid_row": null,
            "grid_template_areas": null,
            "grid_template_columns": null,
            "grid_template_rows": null,
            "height": null,
            "justify_content": null,
            "justify_items": null,
            "left": null,
            "margin": null,
            "max_height": null,
            "max_width": null,
            "min_height": null,
            "min_width": null,
            "object_fit": null,
            "object_position": null,
            "order": null,
            "overflow": null,
            "overflow_x": null,
            "overflow_y": null,
            "padding": null,
            "right": null,
            "top": null,
            "visibility": null,
            "width": null
          }
        },
        "26a40f37a98d4519919dcdf01c3f189b": {
          "model_module": "@jupyter-widgets/controls",
          "model_name": "ProgressStyleModel",
          "model_module_version": "1.5.0",
          "state": {
            "_model_module": "@jupyter-widgets/controls",
            "_model_module_version": "1.5.0",
            "_model_name": "ProgressStyleModel",
            "_view_count": null,
            "_view_module": "@jupyter-widgets/base",
            "_view_module_version": "1.2.0",
            "_view_name": "StyleView",
            "bar_color": null,
            "description_width": ""
          }
        },
        "a97690ab684146a5abf49867ee6afece": {
          "model_module": "@jupyter-widgets/base",
          "model_name": "LayoutModel",
          "model_module_version": "1.2.0",
          "state": {
            "_model_module": "@jupyter-widgets/base",
            "_model_module_version": "1.2.0",
            "_model_name": "LayoutModel",
            "_view_count": null,
            "_view_module": "@jupyter-widgets/base",
            "_view_module_version": "1.2.0",
            "_view_name": "LayoutView",
            "align_content": null,
            "align_items": null,
            "align_self": null,
            "border": null,
            "bottom": null,
            "display": null,
            "flex": null,
            "flex_flow": null,
            "grid_area": null,
            "grid_auto_columns": null,
            "grid_auto_flow": null,
            "grid_auto_rows": null,
            "grid_column": null,
            "grid_gap": null,
            "grid_row": null,
            "grid_template_areas": null,
            "grid_template_columns": null,
            "grid_template_rows": null,
            "height": null,
            "justify_content": null,
            "justify_items": null,
            "left": null,
            "margin": null,
            "max_height": null,
            "max_width": null,
            "min_height": null,
            "min_width": null,
            "object_fit": null,
            "object_position": null,
            "order": null,
            "overflow": null,
            "overflow_x": null,
            "overflow_y": null,
            "padding": null,
            "right": null,
            "top": null,
            "visibility": null,
            "width": null
          }
        },
        "a0c70a13271a4a4cb473019339493464": {
          "model_module": "@jupyter-widgets/controls",
          "model_name": "DescriptionStyleModel",
          "model_module_version": "1.5.0",
          "state": {
            "_model_module": "@jupyter-widgets/controls",
            "_model_module_version": "1.5.0",
            "_model_name": "DescriptionStyleModel",
            "_view_count": null,
            "_view_module": "@jupyter-widgets/base",
            "_view_module_version": "1.2.0",
            "_view_name": "StyleView",
            "description_width": ""
          }
        }
      }
    }
  },
  "cells": [
    {
      "cell_type": "markdown",
      "metadata": {
        "id": "view-in-github",
        "colab_type": "text"
      },
      "source": [
        "<a href=\"https://colab.research.google.com/github/arkeodev/nlp/blob/main/Tokeniser/tokeniser.ipynb\" target=\"_parent\"><img src=\"https://colab.research.google.com/assets/colab-badge.svg\" alt=\"Open In Colab\"/></a>"
      ]
    },
    {
      "cell_type": "markdown",
      "source": [
        "# Tokenisation"
      ],
      "metadata": {
        "id": "4JB5aVWfL01o"
      }
    },
    {
      "cell_type": "markdown",
      "source": [
        "## Introduction"
      ],
      "metadata": {
        "id": "XmscoursL5wl"
      }
    },
    {
      "cell_type": "markdown",
      "source": [
        "Tokenization in NLP is the process of breaking down a stream of textual data into smaller units called tokens. These tokens can be words, phrases, symbols, or other meaningful elements. The primary purpose of tokenization is to convert the unstructured form of text into a structured form, which is easier for computers to understand and process. By identifying the boundaries between words, sentences, or other textual elements, tokenization lays the groundwork for further text analysis and processing tasks such as parsing, indexing, and semantic analysis.\n"
      ],
      "metadata": {
        "id": "HrLEaA_WMlw9"
      }
    },
    {
      "cell_type": "markdown",
      "source": [
        "## How Does Tokenization Contribute to the Preprocessing of Textual Data?\n"
      ],
      "metadata": {
        "id": "Qww0pXItMozl"
      }
    },
    {
      "cell_type": "markdown",
      "source": [
        "\n",
        "Tokenization contributes to the preprocessing of textual data in several key ways:\n",
        "\n",
        "1. **Normalization:** Tokenization often goes hand-in-hand with normalization processes such as converting all characters to lowercase, removing punctuation, and eliminating white spaces. This standardization is critical for ensuring that the text is in a uniform format, reducing complexity and variability in the data.\n",
        "\n",
        "2. **Feature Extraction:** Tokens serve as the basic units for feature extraction, which is essential for training machine learning models. By breaking the text down into tokens, it's possible to quantify certain features of the text, such as the frequency of specific words or phrases, which can then be used as inputs for models.\n",
        "\n",
        "3. **Improvement of Model Performance:** Proper tokenization can significantly impact the performance of NLP models. By accurately identifying tokens, models can better understand the semantics of the text, leading to more accurate predictions and analyses.\n",
        "\n",
        "4. **Language Modeling**: Tokenization is crucial for language modeling tasks, where the goal is to predict the next word or sequence of words. A well-defined set of tokens allows models to better learn the structure and rules of a language.\n",
        "\n",
        "5. **Adaptability to Different Languages**: Effective tokenization techniques can be adapted to different languages and scripts, some of which may not use spaces to separate words or have complex morphology. This adaptability is key for developing multilingual NLP systems."
      ],
      "metadata": {
        "id": "X0FvXrszMf3o"
      }
    },
    {
      "cell_type": "markdown",
      "source": [
        "##  Strategies for Overcoming Tokenization Challenges in Multilingual NLP"
      ],
      "metadata": {
        "id": "tZkcbNSWmlSt"
      }
    },
    {
      "cell_type": "markdown",
      "source": [
        "### The Tokenization Challenges and Complexities"
      ],
      "metadata": {
        "id": "W7TF_gXFmrex"
      }
    },
    {
      "cell_type": "markdown",
      "source": [
        "- Preprocessing considerations and segmentation decisions.\n",
        "\n",
        "- Performance and scalability for large datasets.\n",
        "\n",
        "- Adaptability to new texts and contexts.\n",
        "\n",
        "- The phenomenon where a word has multiple meanings (polysemy) or different words look the same (homographs) complicates tokenization.\n",
        "\n",
        "- Technical jargon, slang, and newly coined terms (neologisms) are frequently updated and can vary widely across different communities and domains.\n",
        "\n",
        "- Abbreviations, acronyms, and initialisms can be written in multiple ways (with or without periods, spaces, etc.), making it challenging for tokenizers to consistently identify and process them without specialized rules or contextual analysis.\n",
        "\n",
        "- In multilingual texts or texts that include frequent code-switching (switching between languages), tokenizers must be able to recognize and handle multiple languages' syntax and grammar within the same sentence or document.\n",
        "\n",
        "- Script variations and non-Latin characters:\n",
        "\n",
        "  Non-Latin Scripts: Languages that use scripts other than Latin (e.g., Cyrillic, Arabic, Devanagari) may present additional challenges due to the specific characteristics of each script, such as right-to-left writing or the use of diacritics and ligatures.\n",
        "\n",
        "  Complex Writing Systems: Scripts like Chinese, where text is written in logograms (characters representing words or morphemes), demand tokenization methods that can discern individual characters and their combinations as words.\n",
        "\n",
        "- Complex morphology - Agglutinative Languages: Turkish, Finnish, and Korean are agglutinative, meaning they form words by stringing together a base with multiple affixes, each adding additional meaning.\n",
        "\n",
        "- Complex morphology - Fusional languages: Russian, German, and Arabic exhibit fusional morphology, where a single word form can convey several grammatical categories e.g., case, gender, number, tense.\n"
      ],
      "metadata": {
        "id": "pSCY9vIGmXZ-"
      }
    },
    {
      "cell_type": "markdown",
      "source": [
        "### Overcoming the Challenges"
      ],
      "metadata": {
        "id": "aHZZJgzUs66T"
      }
    },
    {
      "cell_type": "markdown",
      "source": [
        "To overcome the challanges above, the below strategies can be applied:\n",
        "\n",
        "- **Contextual Models:** Use machine learning and deep learning models, such as recurrent neural networks (RNNs) and transformers, that can understand the context around words or characters. This approach is particularly effective for languages without clear word boundaries and for handling polysemy and homography.\n",
        "\n",
        "- **Subword Tokenization:** Implement subword tokenization algorithms like Byte Pair Encoding (BPE), WordPiece, or SentencePiece, which can dynamically adjust to the vocabulary of the corpus. These methods are useful for agglutinative languages and for handling neologisms and domain-specific language.\n",
        "\n",
        "- **Dictionaries and Lexicons:** Utilize comprehensive dictionaries and lexicons that include words, phrases, idioms, and even slang. This is especially useful for languages with rich morphology or scripts without white space separation, as it aids in accurately identifying word boundaries.\n",
        "\n",
        "- **Morphological Analysis:** For languages with complex morphology, employ morphological analyzers that can dissect words into their root forms and affixes, facilitating more granular tokenization and improving subsequent NLP tasks.\n",
        "\n",
        "- **Regular Expressions:** Use regular expressions to create patterns that match specific tokenization needs, such as identifying abbreviations, numbers, or mixed-language content. This can be particularly effective for preprocessing and normalizing text.\n",
        "\n",
        "- **Language-Agnostic Tokenization:** Adopt language-agnostic tokenization methods that treat text as a raw byte sequence, allowing for consistent tokenization across languages without relying on language-specific cues.\n",
        "\n",
        "- **Multilingual Training:** Train tokenization models on multilingual corpora to enable them to handle text from multiple languages and scripts.\n",
        "\n",
        "- **Online Learning:** Implement tokenization systems that can continuously learn and adapt from new text, allowing them to stay up-to-date with evolving language use, slang, and neologisms.\n",
        "\n",
        "- **User Feedback:** Incorporate feedback mechanisms that allow users to correct tokenization errors. Over time, use this feedback to refine and improve the tokenization algorithms.\n"
      ],
      "metadata": {
        "id": "jXJfjPcJmyYd"
      }
    },
    {
      "cell_type": "markdown",
      "source": [
        "## Types of Tokenization"
      ],
      "metadata": {
        "id": "EBYs3ukfAc57"
      }
    },
    {
      "cell_type": "markdown",
      "source": [
        "### Word Tokenization"
      ],
      "metadata": {
        "id": "Edpbhhf5CKt9"
      }
    },
    {
      "cell_type": "markdown",
      "source": [
        "Word tokenization involves splitting a piece of text into individual words using spaces and punctuation as delimiters. It's most effectively used in tasks requiring the analysis or manipulation of text at the word level, such as frequency analysis, word embeddings for machine learning models, and simple text classification tasks.\n",
        "\n",
        "**Example tokenizers names**\n",
        "- NLTK's `word_tokenize`\n",
        "- spaCy's Tokenizer\n",
        "- Apache OpenNLP's `TokenizerME`"
      ],
      "metadata": {
        "id": "o9vU5cApCKrI"
      }
    },
    {
      "cell_type": "markdown",
      "source": [
        "### Character Tokenization"
      ],
      "metadata": {
        "id": "Hz-_gzMECkWz"
      }
    },
    {
      "cell_type": "markdown",
      "source": [
        "Character tokenization is used in tasks where understanding or manipulating text at the most granular level is crucial. This includes certain types of text classification, language modeling where understanding of individual characters is important, and tasks in languages where the concept of a \"word\" is not straightforward.\n",
        "\n",
        "The main limitations include a potential loss of semantic information (since characters carry less meaning than words or subwords) and increased computational complexity, as models may need to process significantly longer sequences compared to word or subword tokenization.\n",
        "\n",
        "**Example**\n",
        "- Custom character tokenizers built for specific tasks or languages"
      ],
      "metadata": {
        "id": "5wNKz9cYiX6d"
      }
    },
    {
      "cell_type": "markdown",
      "source": [
        "### Subword Tokenization"
      ],
      "metadata": {
        "id": "ykBRpRLOCfel"
      }
    },
    {
      "cell_type": "markdown",
      "source": [
        "Subword tokenization addresses challenges such as handling out-of-vocabulary (OOV) words by breaking down words into smaller, meaningful units (subwords) that are more likely to be seen during training. It also helps in representing a large vocabulary more compactly and efficiently, which is particularly useful in languages with rich morphology or agglutinative languages.\n",
        "\n",
        "Subword tokenization balances the granularity of character tokenization (high granularity but low semantic information) and the semantic richness of word tokenization (high semantic information but poor handling of OOV words). It allows models to understand and generate text more effectively by leveraging the semantic meaning of subword units while mitigating the issues associated with large vocabularies and OOV words.\n",
        "\n",
        "**Example**\n",
        "- BERT's WordPiece\n",
        "- GPT-2's BPE (Byte Pair Encoding)\n",
        "- SentencePiece (supports both BPE and unigram language model)"
      ],
      "metadata": {
        "id": "CCljL5UvCfUY"
      }
    },
    {
      "cell_type": "markdown",
      "source": [
        "### Sentence Tokenization"
      ],
      "metadata": {
        "id": "Kbp38sA0CXjO"
      }
    },
    {
      "cell_type": "markdown",
      "source": [
        "Sentence tokenization splits text into individual sentences, taking into account punctuation marks that denote sentence boundaries, such as periods, exclamation marks, and question marks. It requires understanding the context to correctly interpret these punctuation marks (e.g., distinguishing between a period indicating an abbreviation and one ending a sentence).\n",
        "\n",
        "Sentence tokenization is preferred in scenarios where the unit of analysis or manipulation is the sentence, such as in natural language generation, summarization, machine translation, or when sentences are used as input for sentence-level sentiment analysis.\n",
        "\n",
        "**Example**\n",
        "- NLTK's `sent_tokenize`\n",
        "- spaCy (utilizes document object, which contains sentence objects)\n",
        "- Apache OpenNLP's `SentenceDetectorME`"
      ],
      "metadata": {
        "id": "6HW9bX58CXYb"
      }
    },
    {
      "cell_type": "markdown",
      "source": [
        "## Traditional Tokenization Tools and Libraries"
      ],
      "metadata": {
        "id": "p6mRiIorOkE_"
      }
    },
    {
      "cell_type": "markdown",
      "source": [
        "Python offers a wealth of libraries and tools designed to support various aspects of Natural Language Processing (NLP), including tokenization."
      ],
      "metadata": {
        "id": "LC2dIZuoFC7s"
      }
    },
    {
      "cell_type": "markdown",
      "source": [
        "### 1. **NLTK (Natural Language Toolkit)**\n",
        "\n",
        "- **Approach:** NLTK is one of the most widely-used libraries for NLP in Python and provides a comprehensive suite of text processing libraries for classification, tokenization, stemming, tagging, parsing, and semantic reasoning. It offers multiple tokenizers with varying complexity, from simple whitespace tokenizers to sophisticated regular expression tokenizers.\n",
        "- **Use Cases:** Ideal for educational purposes and prototyping due to its wide range of functionalities and ease of use.\n",
        "\n",
        "```python\n",
        "import nltk\n",
        "nltk.download('punkt')  # Download necessary datasets\n",
        "from nltk.tokenize import word_tokenize\n",
        "\n",
        "text = \"Hello there! How are you doing today?\"\n",
        "tokens = word_tokenize(text)\n",
        "print(tokens)\n",
        "```"
      ],
      "metadata": {
        "id": "O6mh3RCPFgtm"
      }
    },
    {
      "cell_type": "markdown",
      "source": [
        "### 2. **spaCy**\n",
        "\n",
        "- **Approach:** spaCy is known for its speed and efficiency. It adopts an object-oriented approach and treats text as an object, which allows for more sophisticated processing. spaCy's tokenizer is highly optimized and can be extended with custom rules. It’s designed for production use and supports a wide range of NLP tasks.\n",
        "- **Use Cases:** Best suited for production-grade applications requiring fast and efficient text processing.\n",
        "\n",
        "```python\n",
        "import spacy\n",
        "nlp = spacy.load(\"en_core_web_sm\")  # Load the English model\n",
        "\n",
        "text = \"Hello there! How are you doing today?\"\n",
        "doc = nlp(text)\n",
        "tokens = [token.text for token in doc]\n",
        "print(tokens)\n",
        "```"
      ],
      "metadata": {
        "id": "noQtsMeaFj1o"
      }
    },
    {
      "cell_type": "markdown",
      "source": [
        "### 3. **TextBlob**\n",
        "\n",
        "- **Approach:** TextBlob is built on top of NLTK and Pattern. It's simpler and more user-friendly, providing an intuitive API for common NLP tasks, including tokenization. TextBlob's tokenization is more straightforward, primarily focusing on ease of use and accessibility.\n",
        "- **Use Cases:** Great for beginners and those interested in quickly prototyping applications or scripts involving NLP.\n",
        "\n",
        "```python\n",
        "from textblob import TextBlob\n",
        "\n",
        "text = \"Hello there! How are you doing today?\"\n",
        "blob = TextBlob(text)\n",
        "tokens = blob.words  # For word tokenization\n",
        "sentences = blob.sentences  # For sentence tokenization\n",
        "print(tokens)\n",
        "```"
      ],
      "metadata": {
        "id": "BENMJHtsFmsO"
      }
    },
    {
      "cell_type": "markdown",
      "source": [
        "### 4. **Gensim**\n",
        "\n",
        "- **Approach:** Gensim is focused on topic modeling and document similarity. While not primarily known for tokenization, it does offer simple preprocessing capabilities that can tokenize and clean text. Gensim is optimized for handling large text corpora.\n",
        "- **Use Cases:** Ideal for projects focusing on topic modeling, document indexing, and similarity retrieval.\n",
        "\n",
        "```python\n",
        "from gensim.utils import tokenize\n",
        "\n",
        "text = \"Hello there! How are you doing today?\"\n",
        "tokens = list(tokenize(text))\n",
        "print(tokens)\n",
        "```"
      ],
      "metadata": {
        "id": "H4zKTdmYFpcs"
      }
    },
    {
      "cell_type": "markdown",
      "source": [
        "\n",
        "\n",
        "\n",
        "\n",
        "\n",
        "\n",
        "\n",
        "\n",
        "\n",
        "### 5. **Keras**\n",
        "\n",
        "- **Approach:** Keras, a deep learning library, provides utilities for text preprocessing, including tokenization, primarily aimed at preparing text data for neural network models. Its `Tokenizer` class offers a high-level API for vectorizing text into sequences or matrices.\n",
        "- **Use Cases:** Best suited for deep learning projects requiring text data preprocessing for model training.\n",
        "\n",
        "```python\n",
        "from tensorflow.keras.preprocessing.text import Tokenizer\n",
        "\n",
        "texts = [\"Hello there! How are you doing today?\"]\n",
        "tokenizer = Tokenizer(num_words=100)\n",
        "tokenizer.fit_on_texts(texts)\n",
        "sequences = tokenizer.texts_to_sequences(texts)\n",
        "print(sequences)\n",
        "```"
      ],
      "metadata": {
        "id": "dKsbpQ4zE9Xl"
      }
    },
    {
      "cell_type": "markdown",
      "source": [
        "## Advanced Tokenization Techniques"
      ],
      "metadata": {
        "id": "A9uf0wJgAQ4L"
      }
    },
    {
      "cell_type": "code",
      "source": [
        "! pip install transformers tensorflow numpy -q"
      ],
      "metadata": {
        "id": "82Q9IWnezDBm"
      },
      "execution_count": null,
      "outputs": []
    },
    {
      "cell_type": "code",
      "source": [
        "# Sample dataset of customer reviews\n",
        "reviews = [\n",
        "    \"Absolutely love this! Best purchase ever.\",\n",
        "    \"Horrible, completely useless. 0/10\",\n",
        "]"
      ],
      "metadata": {
        "id": "AYGRYn423bdo"
      },
      "execution_count": null,
      "outputs": []
    },
    {
      "cell_type": "markdown",
      "source": [
        "### BPE"
      ],
      "metadata": {
        "id": "PUwSxJODy-ZN"
      }
    },
    {
      "cell_type": "markdown",
      "source": [
        "BPE is a subword tokenization method, often used in models like GPT.\n",
        "\n",
        "BPE iteratively merges the most frequent pair of bytes or characters in the text data. It’s effective for reducing the vocabulary size and handling unknown characters by breaking down words into more frequent subwords or characters.\n",
        "\n",
        "**How it Works:** Starts with character-level tokenization and progressively merges pairs of characters (or byte pairs) based on their frequency of occurrence in the corpus. This process continues until a predetermined number of merges (vocabulary size) is reached.\n",
        "\n",
        "**Example:**\n",
        "\n",
        "- Corpus: aaabdaaabac\n",
        "\n",
        "- Initial character frequency: a: 6, b: 2, d: 1, c: 1\n",
        "\n",
        "1. Initial State: Each character is a token.\n",
        "a a a b d a a a b a c\n",
        "2. After Step 1: Merge aa into A.\n",
        "A A b d A A b a c\n",
        "3. After Step 2: Merge AAb into B.\n",
        "B d B a c\n",
        "4. After Step 3: Merge dB into C.\n",
        "C b a c\n",
        "\n",
        "5. Final Tokens: C, b, a, c\n",
        "\n",
        "6. Final Corpus Representation: CBac\n"
      ],
      "metadata": {
        "id": "6icTKiYq3ECt"
      }
    },
    {
      "cell_type": "code",
      "source": [
        "from transformers import GPT2Tokenizer\n",
        "import numpy as np\n",
        "\n",
        "# Initialize the tokenizer\n",
        "tokenizer_bpe = GPT2Tokenizer.from_pretrained(\"gpt2\")\n",
        "\n",
        "# Encode the reviews using BPE and pad sequences\n",
        "sequences_bpe = [tokenizer_bpe.encode(review, add_special_tokens=True) for review in reviews]\n",
        "max_len = max(len(seq) for seq in sequences_bpe)\n",
        "padded_seqs_bpe = np.array([seq + [0]*(max_len - len(seq)) for seq in sequences_bpe])\n",
        "\n",
        "# Convert token IDs back to tokens\n",
        "tokens_bpe = [tokenizer_bpe.convert_ids_to_tokens(seq) for seq in sequences_bpe]\n",
        "\n",
        "print(\"\\nBPE Subword Tokenization Result:\")\n",
        "print(padded_seqs_bpe)\n",
        "print(\"\\nTokens:\")\n",
        "for tokens in tokens_bpe:\n",
        "    print(tokens)"
      ],
      "metadata": {
        "colab": {
          "base_uri": "https://localhost:8080/"
        },
        "id": "zSs6bLLYzaoL",
        "outputId": "d1f5ed35-71e5-4822-c4c6-71317e22f04c"
      },
      "execution_count": null,
      "outputs": [
        {
          "output_type": "stream",
          "name": "stdout",
          "text": [
            "\n",
            "BPE Subword Tokenization Result:\n",
            "[[40501  1842   428     0  6705  5001  1683    13     0]\n",
            " [27991  5547    11  3190 13894    13   657    14   940]]\n",
            "\n",
            "Tokens:\n",
            "['Absolutely', 'Ġlove', 'Ġthis', '!', 'ĠBest', 'Ġpurchase', 'Ġever', '.']\n",
            "['Hor', 'rible', ',', 'Ġcompletely', 'Ġuseless', '.', 'Ġ0', '/', '10']\n"
          ]
        }
      ]
    },
    {
      "cell_type": "markdown",
      "source": [
        "### WordPiece"
      ],
      "metadata": {
        "id": "84QDv1HM26Bv"
      }
    },
    {
      "cell_type": "markdown",
      "source": [
        "WordPiece is another subword tokenization method, often used in models like BERT.\n",
        "\n",
        "Similar to BPE, but instead of merging the most frequent pairs, WordPiece adds the most beneficial token (one that minimizes the likelihood of the training data given the model) during each iteration.\n",
        "\n",
        "**How it Works:** Begins with character-level tokens and incrementally creates a vocabulary of subwords based on their utility in representing the training data efficiently. The WordPiece algorithm specifically optimizes for the performance of the language model, rather than just the frequency of the subwords. The goal is to improve the model's understanding and generation of text.\n",
        "\n",
        "\n",
        "**Example:**\n",
        "\n",
        "- Corpus: aaabdaaabac\n",
        "\n",
        "- Initial character frequency: a: 6, b: 2, d: 1, c: 1\n",
        "\n",
        "1. Initial State: Each character is a token.\n",
        "a a a b d a a a b a c\n",
        "\n",
        "2. After Step 1: Unlike BPE that directly merges the most frequent pairs, WordPiece evaluates which merge would contribute most effectively to modeling the language. If aa is still the best candidate, it merges aa → A.\n",
        "A A b d A A b a c\n",
        "\n",
        "3. After Step 2: WordPiece might find merging A and b as B beneficial for its language model criteria (even if it's not the most frequent).\n",
        "B d B a c\n",
        "\n",
        "4. After Step 3: Next, assuming merging B and d to C makes the most sense for the language model.\n",
        "C B a c\n",
        "\n",
        "5. Final Tokens: C, B, a, c\n",
        "\n",
        "6. Final Corpus Representation: C B a c"
      ],
      "metadata": {
        "id": "AaOXFzOb3AzQ"
      }
    },
    {
      "cell_type": "code",
      "source": [
        "from transformers import BertTokenizer\n",
        "import numpy as np\n",
        "\n",
        "# Initializing the tokenizer\n",
        "tokenizer_wordpiece = BertTokenizer.from_pretrained('bert-base-uncased')\n",
        "\n",
        "# Encoding the reviews using WordPiece\n",
        "sequences_wordpiece = [tokenizer_wordpiece.encode(review, add_special_tokens=True) for review in reviews]\n",
        "max_len = max(len(seq) for seq in sequences_wordpiece)\n",
        "padded_seqs_wordpiece = np.array([seq + [0]*(max_len - len(seq)) for seq in sequences_wordpiece])\n",
        "\n",
        "# Convert token IDs back to tokens\n",
        "tokens_wordpiece = [tokenizer_wordpiece.convert_ids_to_tokens(seq) for seq in sequences_wordpiece]\n",
        "\n",
        "print(\"\\nWordPiece Tokenization Result:\")\n",
        "print(padded_seqs_wordpiece)\n",
        "print(\"\\nTokens:\")\n",
        "for tokens in tokens_wordpiece:\n",
        "    print(tokens)"
      ],
      "metadata": {
        "colab": {
          "base_uri": "https://localhost:8080/",
          "height": 288,
          "referenced_widgets": [
            "f5dbc6af71a248b1abe990f1244af3fa",
            "a81365d98ded4ab0bb7743cb98972ecf",
            "4e01b95625fa4e1eabe87a50375c8f08",
            "d21480564c7643429053d1507d897edc",
            "49670610a6d24cdeb6acf53e8d97cb97",
            "2a78ec9c0dab4f8186fc74dbd8ef919a",
            "d835c1530e94438ab5e7e5ba8d3496dc",
            "41f80f131f274b279ea2d745cd7a7be6",
            "8e7550bb865f4dea84f481506ae2cd19",
            "cd2de3d15d4d45edb087ba919126105e",
            "eba36738ae0d49dd8171b240ef15d2cf",
            "11a65ed5727041b8911a8612b3fdc755",
            "bdc25ee45ffb413696cfa933d97ebf5f",
            "473616fa6e4e478285bb919cd98fa6af",
            "304e38537ab94d978e8481d4c0cb4238",
            "088a48af7a734347a3c8cd1e638da82f",
            "1651194ef4744f9db7d6b57d6a0105a7",
            "edaf1874f2e248e9a30cd03022edafc0",
            "68d7e4be4cb844e79529de760e63bb07",
            "924b5f3f4bc7498389ec43f341f4198e",
            "f5dbca5de908454eaa6729c5ce9986d2",
            "c02b94a95e1c401f994c4d48b96b009d",
            "60a9fabd3b5b4ba2abfeaaa9d5e69012",
            "b0bf14efd81d4783b0df03c4e00c6bcf",
            "85cde98c1117407cbaf539fbbfac5d65",
            "1d1c963913714911944a0cd8d5993f95",
            "b7bf2376794d4114b878a8a07b2254ab",
            "53762e4f166348dbaae95334613e84cc",
            "3e585072ced84e9086100ae193365039",
            "1cf3f96b5dc3430282ae81511a1501aa",
            "962d0d68a26b459b8d9f0b0791ffe3b4",
            "0001d2714f764e54b8ca5a16b1e5405e",
            "3e20741ef0aa4e54ad93f425d068fb88",
            "c199e378aa004ccf81094359fc58b69b",
            "221afa81ccbc41058e443e93a0d09da8",
            "6b9b329b4c7947a79e3a41096aaad797",
            "a4afa34e61524c28951bf9e6d58db1c5",
            "a9b6d1e405f44f719f603507affad579",
            "411bc485a28a4095a33e82730b0cbae1",
            "631dc502484545ec806e0826d3b00ff1",
            "0d49630bc2ec41ca9344ded631cef6f8",
            "3b9021f1e93a47de81328de3dd90e4df",
            "9bc1500e8ea5485baa8f1d42d734f115",
            "6683a26b9a40486090d935aadf3aea26"
          ]
        },
        "id": "NmeMrg5J3LMb",
        "outputId": "804b8812-cceb-4797-e42e-d9b273691e57"
      },
      "execution_count": null,
      "outputs": [
        {
          "output_type": "display_data",
          "data": {
            "text/plain": [
              "tokenizer_config.json:   0%|          | 0.00/48.0 [00:00<?, ?B/s]"
            ],
            "application/vnd.jupyter.widget-view+json": {
              "version_major": 2,
              "version_minor": 0,
              "model_id": "f5dbc6af71a248b1abe990f1244af3fa"
            }
          },
          "metadata": {}
        },
        {
          "output_type": "display_data",
          "data": {
            "text/plain": [
              "vocab.txt:   0%|          | 0.00/232k [00:00<?, ?B/s]"
            ],
            "application/vnd.jupyter.widget-view+json": {
              "version_major": 2,
              "version_minor": 0,
              "model_id": "11a65ed5727041b8911a8612b3fdc755"
            }
          },
          "metadata": {}
        },
        {
          "output_type": "display_data",
          "data": {
            "text/plain": [
              "tokenizer.json:   0%|          | 0.00/466k [00:00<?, ?B/s]"
            ],
            "application/vnd.jupyter.widget-view+json": {
              "version_major": 2,
              "version_minor": 0,
              "model_id": "60a9fabd3b5b4ba2abfeaaa9d5e69012"
            }
          },
          "metadata": {}
        },
        {
          "output_type": "display_data",
          "data": {
            "text/plain": [
              "config.json:   0%|          | 0.00/570 [00:00<?, ?B/s]"
            ],
            "application/vnd.jupyter.widget-view+json": {
              "version_major": 2,
              "version_minor": 0,
              "model_id": "c199e378aa004ccf81094359fc58b69b"
            }
          },
          "metadata": {}
        },
        {
          "output_type": "stream",
          "name": "stdout",
          "text": [
            "\n",
            "WordPiece Tokenization Result:\n",
            "[[  101  7078  2293  2023   999  2190  5309  2412  1012   102]\n",
            " [  101  9202  1010  3294 11809  1012  1014  1013  2184   102]]\n",
            "\n",
            "Tokens:\n",
            "['[CLS]', 'absolutely', 'love', 'this', '!', 'best', 'purchase', 'ever', '.', '[SEP]']\n",
            "['[CLS]', 'horrible', ',', 'completely', 'useless', '.', '0', '/', '10', '[SEP]']\n"
          ]
        }
      ]
    },
    {
      "cell_type": "markdown",
      "source": [
        "### SentencePiece"
      ],
      "metadata": {
        "id": "eTTG-Jtw3lI0"
      }
    },
    {
      "cell_type": "markdown",
      "source": [
        "SentencePiece is a tokenization library that does not rely on whitespaces for tokenization, making it suitable for languages without clear word boundaries.\n",
        "\n",
        "Unlike BPE and WordPiece, SentencePiece tokenizes text into subwords directly from raw text (i.e., without whitespace tokenization as a first step). It’s especially useful for languages that don’t use spaces or use them inconsistently.\n",
        "\n",
        "**How it Works:** Applies a similar subword tokenization technique but treats the input as a raw sequence of Unicode characters, allowing for a language-agnostic approach. SentencePiece can use either BPE or a unigram language model for its subword segmentation process.\n",
        "\n",
        "**Example:**\n",
        "\n",
        "- Corpus (Including Space Representation as _): aaa_bdaaabac\n",
        "\n",
        "1. Initial State: Consider spaces as tokens too: a a a _ b d a a a b a c\n",
        "\n",
        "2. After Step 1: SentencePiece might start by merging frequent pairs, including spaces. For example, a a → A.\n",
        "A A _ b d A A b a c\n",
        "\n",
        "3. After Step 2: Further merges could include combinations with spaces, A _ → B to maintain the integrity of words.\n",
        "B b d B b a c\n",
        "\n",
        "4. After Step 3: Then, perhaps B b → C, considering the algorithm’s focus on effective encoding of the entire string.\n",
        "C d C a c\n",
        "\n",
        "5. Final Tokens: C, d, a, c\n",
        "\n",
        "6. Final Corpus Representation: C d C a c"
      ],
      "metadata": {
        "id": "FUDf3JG53pv2"
      }
    },
    {
      "cell_type": "code",
      "source": [
        "from transformers import T5Tokenizer\n",
        "import numpy as np\n",
        "\n",
        "# Initialize the tokenizer\n",
        "tokenizer_sentencepiece = T5Tokenizer.from_pretrained('t5-small')\n",
        "\n",
        "# Encoding the reviews using SentencePiece\n",
        "sequences_sentencepiece = [tokenizer_sentencepiece.encode(review, add_special_tokens=True) for review in reviews]\n",
        "max_len = max(len(seq) for seq in sequences_sentencepiece)\n",
        "padded_seqs_sentencepiece = np.array([seq + [0]*(max_len - len(seq)) for seq in sequences_sentencepiece])\n",
        "\n",
        "# Convert token IDs back to tokens\n",
        "tokens_sentencepiece = [tokenizer_sentencepiece.convert_ids_to_tokens(seq) for seq in sequences_sentencepiece]\n",
        "\n",
        "print(\"\\nSentencePiece Tokenization Result:\")\n",
        "print(padded_seqs_sentencepiece)\n",
        "print(\"\\nTokens:\")\n",
        "for tokens in tokens_sentencepiece:\n",
        "    print(tokens)"
      ],
      "metadata": {
        "colab": {
          "base_uri": "https://localhost:8080/",
          "height": 312,
          "referenced_widgets": [
            "96be2c8d4ea142eebe36d79e255608a8",
            "cbd2cd11d5b347c4926ec731090087b9",
            "98799102ba4f4590b05f55eae6f524f1",
            "975eaf7d04294cc8a9fea1e7ab2fa417",
            "5d420ae8f2424bd2b2ae179ed3c19a10",
            "5903932e46974de397406de4a37cc004",
            "cd9001b75811428793e7464af8b00bef",
            "460410111f914754beaea7b9890569a3",
            "939dcbb66a1645c48c33188a2e9d1e6f",
            "aa889171ccf043b18805e9000a3cf5e5",
            "7eea48cf32e54c828df0a077f0f010f1",
            "a9fe5451396e436a89c89485cd093c52",
            "a518b7aef66345f3ad999d753b5dbdfb",
            "9a4bb2ea5a7b4364aefa087b024d2b89",
            "4bbed9e7a9814f0bac93d06221e0327b",
            "6489e1d802eb497493056277c91bd6e4",
            "8f1d60dc710b4ed3beb5b5de6176cc8b",
            "8fc0294d738240fa93fd015e4cad9aaa",
            "b62dd45a72b94e88b6f33ae5096bcb22",
            "710938afff404a8aacb9da26f27c47d1",
            "8d54d954d99140beb1d9102247324c59",
            "26dbbd6a0e04499d8ed8a396d6effef5",
            "183ae3c51390446db7656b4bd040702f",
            "912465a1d613464b9f29fa117177a144",
            "fd30f1403b124db78016649e74a5d891",
            "4bd2820aa143422199e4d075279a4e3a",
            "9fd3ec600f1f4a33a43c9e631ccf32f3",
            "d686381a3f2e4ee7867421b0e8de6355",
            "68147a3571c042838908351eacaf82f8",
            "d2b43d08dbd349d6b9f3302a0c052f72",
            "26a40f37a98d4519919dcdf01c3f189b",
            "a97690ab684146a5abf49867ee6afece",
            "a0c70a13271a4a4cb473019339493464"
          ]
        },
        "id": "Ep8eaMVa3rqz",
        "outputId": "cada0e40-01ab-4d79-a9a1-6f536a954968"
      },
      "execution_count": null,
      "outputs": [
        {
          "output_type": "display_data",
          "data": {
            "text/plain": [
              "tokenizer_config.json:   0%|          | 0.00/2.32k [00:00<?, ?B/s]"
            ],
            "application/vnd.jupyter.widget-view+json": {
              "version_major": 2,
              "version_minor": 0,
              "model_id": "96be2c8d4ea142eebe36d79e255608a8"
            }
          },
          "metadata": {}
        },
        {
          "output_type": "display_data",
          "data": {
            "text/plain": [
              "spiece.model:   0%|          | 0.00/792k [00:00<?, ?B/s]"
            ],
            "application/vnd.jupyter.widget-view+json": {
              "version_major": 2,
              "version_minor": 0,
              "model_id": "a9fe5451396e436a89c89485cd093c52"
            }
          },
          "metadata": {}
        },
        {
          "output_type": "display_data",
          "data": {
            "text/plain": [
              "tokenizer.json:   0%|          | 0.00/1.39M [00:00<?, ?B/s]"
            ],
            "application/vnd.jupyter.widget-view+json": {
              "version_major": 2,
              "version_minor": 0,
              "model_id": "183ae3c51390446db7656b4bd040702f"
            }
          },
          "metadata": {}
        },
        {
          "output_type": "stream",
          "name": "stderr",
          "text": [
            "You are using the default legacy behaviour of the <class 'transformers.models.t5.tokenization_t5.T5Tokenizer'>. This is expected, and simply means that the `legacy` (previous) behavior will be used so nothing changes for you. If you want to use the new behaviour, set `legacy=False`. This should only be set if you understand what it means, and thoroughly read the reason why this was added as explained in https://github.com/huggingface/transformers/pull/24565\n",
            "Special tokens have been added in the vocabulary, make sure the associated word embeddings are fine-tuned or trained.\n"
          ]
        },
        {
          "output_type": "stream",
          "name": "stdout",
          "text": [
            "\n",
            "SentencePiece Tokenization Result:\n",
            "[[20510   333    48    55  1648  1242   664     5     1     0     0]\n",
            " [ 6766    52  2317     6  1551 19930     5     3   632 11476     1]]\n",
            "\n",
            "Tokens:\n",
            "['▁Absolutely', '▁love', '▁this', '!', '▁Best', '▁purchase', '▁ever', '.', '</s>']\n",
            "['▁Hor', 'r', 'ible', ',', '▁completely', '▁useless', '.', '▁', '0', '/10', '</s>']\n"
          ]
        }
      ]
    },
    {
      "cell_type": "markdown",
      "source": [
        "## Practical Example\n"
      ],
      "metadata": {
        "id": "yi51RhUOLu7C"
      }
    },
    {
      "cell_type": "markdown",
      "source": [
        "## Conclusion"
      ],
      "metadata": {
        "id": "Q6HMHxCKuzn1"
      }
    },
    {
      "cell_type": "markdown",
      "source": [
        "Tokenization is a critical preprocessing step in Natural Language Processing (NLP) that transforms raw text into structured formats usable by machine learning models.\n",
        "\n",
        "Each tokenization method — word, sentence, subword, and character — addresses specific challenges and is suited for different NLP tasks.\n",
        "\n",
        "The choice of tokenization method significantly impacts the performance of NLP applications, making it essential to match the tokenization strategy with the specific needs of each task and the characteristics of the language being processed."
      ],
      "metadata": {
        "id": "ceoTa0k-C5th"
      }
    }
  ]
}